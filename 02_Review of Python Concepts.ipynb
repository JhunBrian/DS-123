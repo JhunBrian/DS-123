{
 "cells": [
  {
   "cell_type": "markdown",
   "id": "1ebaa1b5-9d4f-45b8-893b-1ab6ebb291d4",
   "metadata": {},
   "source": [
    "# Review of Python Concepts\n",
    "\n",
    "**Instructor:** Jhun Brian M. Andam\n",
    "\n",
    "**Course:** Data Structures and Algorithm\n",
    "\n",
    "**Objectives**\n",
    "\n",
    "- Recall programming concepts through Python programming."
   ]
  },
  {
   "cell_type": "markdown",
   "id": "25d80064-4a60-47a1-82c8-80633aed4cf7",
   "metadata": {},
   "source": [
    "### Variables"
   ]
  },
  {
   "cell_type": "markdown",
   "id": "215becfa-5fb1-4533-b33d-4be013e39e01",
   "metadata": {},
   "source": [
    "In computer programming, a `variable` is a named `container` that `stores` information to be referenced and manipulated in a program. Variables provide a way of labeling data with a descriptive name, making programs more understandable. They are used to store both fixed values and values that can change depending on conditions or information passed to the program. Variables can be associated with a memory address and can store different data types, such as integers, strings, or objects. When a value is assigned to a variable, the old value is replaced with the new one. Naming variables is important, and it is recommended to use descriptive names that accurately represent the data they store.\n",
    "\n",
    "```python\n",
    "school = \"USTP\"\n",
    "\n",
    "name, age = \"Jon\", 19\n",
    "\n",
    "r = g = b = (0, 255)\n",
    "```"
   ]
  },
  {
   "cell_type": "markdown",
   "id": "9c51c0c8-4a74-4825-bd35-ff2528aa8630",
   "metadata": {},
   "source": [
    "<div class=\"alert alert-block alert-success\">\n",
    "    <b>Exercise: </b>Follow and implement the following algorithm.\n",
    "</div>\n",
    "\n",
    "1. Create a `list` with a variable name `params`.\n",
    "2. On the first index, input the value of `pi` until the 4th digit.\n",
    "3. On the second index, input the value of a radius which is 16.\n",
    "4. Unpack the values of the list.\n",
    "\n",
    "```python\n",
    "pi, radius = params\n",
    "```\n",
    "5. Create a variable called area, calculate the area of a circle."
   ]
  },
  {
   "cell_type": "markdown",
   "id": "139d684f-79f7-4bbe-ae62-688c824d3bf8",
   "metadata": {},
   "source": [
    "<center><img src=\"figures/01_types.jpg\" width=\"800\"></center>"
   ]
  },
  {
   "cell_type": "markdown",
   "id": "a8ba4457-84b1-49b4-a8b1-f4c1ca6b7642",
   "metadata": {},
   "source": [
    "### Primitive"
   ]
  },
  {
   "cell_type": "markdown",
   "id": "50dfddfe-acd0-457e-8988-f2aece2cf55b",
   "metadata": {},
   "source": [
    "<center><img src=\"figures/01_primitive.gif\" width=\"250\"></center>\n",
    "\n",
    "- Primitive data structures are the most basic data structures provided by the programming language.\n",
    "- Can be represented by `bits` and characters.\n",
    "    - Integer\n",
    "    - Float\n",
    "    - Boolean"
   ]
  },
  {
   "cell_type": "code",
   "execution_count": 1,
   "id": "604f2ca8-9f1f-4626-924c-40ed879051eb",
   "metadata": {},
   "outputs": [],
   "source": [
    "i = 10"
   ]
  },
  {
   "cell_type": "code",
   "execution_count": 2,
   "id": "c869c784-00ed-4fb7-b12d-15b0dc75647a",
   "metadata": {},
   "outputs": [
    {
     "data": {
      "text/plain": [
       "10.0"
      ]
     },
     "execution_count": 2,
     "metadata": {},
     "output_type": "execute_result"
    }
   ],
   "source": [
    "float(i)"
   ]
  },
  {
   "cell_type": "markdown",
   "id": "8ff880bf-f4cd-4177-9c1a-1ffd311decdb",
   "metadata": {},
   "source": [
    "<div class=\"alert alert-block alert-info\">\n",
    "    <b>TO DO: </b> Write a brief summary of what integers, floats, strings, and booleans are, and how they are implemented in Python based on your programming course knowledge.\n",
    "</div> \n",
    "\n",
    "*Answer Here:*\n",
    "\n",
    "\n",
    "```python\n",
    "# sample implementation\n",
    "```"
   ]
  },
  {
   "cell_type": "code",
   "execution_count": 6,
   "id": "ab893a57-64da-431c-8785-5bf1978b972b",
   "metadata": {},
   "outputs": [
    {
     "data": {
      "text/plain": [
       "['__add__',\n",
       " '__class__',\n",
       " '__class_getitem__',\n",
       " '__contains__',\n",
       " '__delattr__',\n",
       " '__dir__',\n",
       " '__doc__',\n",
       " '__eq__',\n",
       " '__format__',\n",
       " '__ge__',\n",
       " '__getattribute__',\n",
       " '__getitem__',\n",
       " '__getnewargs__',\n",
       " '__gt__',\n",
       " '__hash__',\n",
       " '__init__',\n",
       " '__init_subclass__',\n",
       " '__iter__',\n",
       " '__le__',\n",
       " '__len__',\n",
       " '__lt__',\n",
       " '__mul__',\n",
       " '__ne__',\n",
       " '__new__',\n",
       " '__reduce__',\n",
       " '__reduce_ex__',\n",
       " '__repr__',\n",
       " '__rmul__',\n",
       " '__setattr__',\n",
       " '__sizeof__',\n",
       " '__str__',\n",
       " '__subclasshook__',\n",
       " 'count',\n",
       " 'index']"
      ]
     },
     "execution_count": 6,
     "metadata": {},
     "output_type": "execute_result"
    }
   ],
   "source": [
    "dir(tuple)"
   ]
  },
  {
   "cell_type": "markdown",
   "id": "66071983-dc98-456f-8309-c8723cdb617d",
   "metadata": {},
   "source": [
    "### Non-Primitive"
   ]
  },
  {
   "cell_type": "markdown",
   "id": "4f9a3507-5141-4af9-8b3d-a524c3e73a00",
   "metadata": {
    "jp-MarkdownHeadingCollapsed": true
   },
   "source": [
    "<center><img src=\"figures/01_non_prim.gif\" width=\"250\"></center>\n",
    "\n",
    "\n",
    "Non-primitive data structures are data types that can hold multiple values, including `collections` of values in varying formats. These data structures are used to organize and manipulate more complex data in Python programs. In contrast, primitive data structures are the most basic data structures that contain simple and pure data values.\n",
    "\n",
    "**Built-In**\n",
    "\n",
    "- List\n",
    "- Tuple\n",
    "- Set\n",
    "- Dictionary\n",
    "\n",
    "\n",
    "**User-Defined**\n",
    "\n",
    "- Queue\n",
    "- Stack\n",
    "- Linked List\n",
    "- Graph\n",
    "- HashMap"
   ]
  },
  {
   "cell_type": "markdown",
   "id": "9c99f5ec-4e05-433e-8fd9-560c1adb839f",
   "metadata": {},
   "source": [
    "### Control Structures"
   ]
  },
  {
   "cell_type": "markdown",
   "id": "fbe46505-6529-4917-8e6c-7d3261e8aded",
   "metadata": {
    "jp-MarkdownHeadingCollapsed": true
   },
   "source": [
    "\n",
    "\n",
    "**Sequential Logic** as the name suggests follows a serial or sequential flow in which the flow depends on the series of instructions given to the computer. Unless new instructions are given, the modules are executed in the obvious sequence. The sequences may be given, by means of numbered steps explicitly. Also, implicitly follows the order in which modules are written. Most of the processing, even some complex problems, will generally follow this elementary flow pattern.\n",
    "\n",
    "**Selection Logic** simply involves a number of conditions or parameters which decides one out of several written modules. The structures which use these type of logic are known as Conditional Structures. These structures can be of three types:\n",
    "\n",
    "**Iterative Logic** employs a loop which involves a repeat statement followed by a module known as the body of a loop."
   ]
  },
  {
   "cell_type": "code",
   "execution_count": 7,
   "id": "e2219125-9004-4a62-898c-b2e053f94d6d",
   "metadata": {},
   "outputs": [],
   "source": [
    "# example\n",
    "\n",
    "\n",
    "a = [10, 12, 14.5, 17, 20]"
   ]
  },
  {
   "cell_type": "markdown",
   "id": "d7ef2c42-325e-4ddc-af7d-209176b52dd9",
   "metadata": {},
   "source": [
    "$$\\mu = \\frac{\\sum{e}}{n}$$"
   ]
  },
  {
   "cell_type": "markdown",
   "id": "06ba1fe1-fe69-4e71-8e4e-79e80000103a",
   "metadata": {},
   "source": [
    "<div class=\"alert alert-block alert-success\">\n",
    "    <b>Exercise:</b> Implement sequential, selection, and iterative logic in python.\n",
    "</div>"
   ]
  },
  {
   "cell_type": "markdown",
   "id": "4d63c11a-eef2-4477-9638-886025ce4988",
   "metadata": {},
   "source": [
    "### Functions and Lambda"
   ]
  },
  {
   "cell_type": "markdown",
   "id": "6a68c349-61e0-4a72-885d-ab644267f912",
   "metadata": {},
   "source": [
    "In Python, a **function** is a block of reusable code defined using the `def` keyword, designed to perform a specific task. It can have a name, take arguments, and return a result using the `return` keyword. Functions can include multiple statements and allow for complex logic, making them versatile and reusable. A **lambda**, on the other hand, is a small, anonymous function created using the `lambda` keyword. Lambdas are limited to a single expression, which is implicitly returned, and are often used for short, throwaway functions, such as those passed as arguments to higher-order functions like `map`, `filter`, or `sort`. The key difference is that standard functions are named and can consist of multiple lines of code, while lambdas are nameless, concise, and restricted to a single expression, making them ideal for simple, quick operations.\n",
    "\n",
    "```python\n",
    "def my_func(*args, **kwargs):\n",
    "    pass\n",
    "\n",
    "my_func = lambda param: param ** 2\n",
    "```"
   ]
  },
  {
   "cell_type": "code",
   "execution_count": 9,
   "id": "0d354a23-4cda-40ca-ab5d-dddba3fb4632",
   "metadata": {},
   "outputs": [],
   "source": [
    "a = [1,2,3]\n",
    "b = [1,2,3,4]\n",
    "c = [1,2,3,4,5]\n",
    "d = [a,b,c]"
   ]
  },
  {
   "cell_type": "code",
   "execution_count": 16,
   "id": "9aebd88f-ba56-4fbc-955d-b96013c48f0e",
   "metadata": {},
   "outputs": [
    {
     "name": "stdout",
     "output_type": "stream",
     "text": [
      "2.0\n",
      "2.5\n",
      "3.0\n"
     ]
    }
   ],
   "source": [
    "# sums = 0\n",
    "for l in d:\n",
    "    sums = 0\n",
    "    for i in l:\n",
    "        sums += i\n",
    "    print(sums / len(l))"
   ]
  },
  {
   "cell_type": "code",
   "execution_count": 18,
   "id": "f7857cf4-9751-4c86-88ff-9861831616d9",
   "metadata": {},
   "outputs": [
    {
     "data": {
      "text/plain": [
       "2.0"
      ]
     },
     "execution_count": 18,
     "metadata": {},
     "output_type": "execute_result"
    }
   ],
   "source": [
    "sum(a) / len(a)"
   ]
  },
  {
   "cell_type": "code",
   "execution_count": 13,
   "id": "ff1379de-71c2-44cf-ba57-63f1cab175dc",
   "metadata": {},
   "outputs": [
    {
     "name": "stdout",
     "output_type": "stream",
     "text": [
      "2.0\n",
      "2.5\n",
      "3.0\n"
     ]
    }
   ],
   "source": [
    "cl = 0\n",
    "while cl != len(d):\n",
    "    sums = 0\n",
    "    ce = 0\n",
    "    while ce != len(d[cl]):\n",
    "        sums += d[cl][ce]\n",
    "        ce += 1\n",
    "    print(sums / len(d[cl]))\n",
    "    cl += 1"
   ]
  },
  {
   "cell_type": "markdown",
   "id": "d8f09786-b0eb-4b6d-b2bc-9fb586a6a9af",
   "metadata": {},
   "source": [
    "<div class=\"alert alert-block alert-success\">\n",
    "    <b>Exercise:</b> Create a function in python.\n",
    "</div>"
   ]
  },
  {
   "cell_type": "code",
   "execution_count": 5,
   "id": "23b53644-46a4-4e96-b8d1-a7a6adfe796c",
   "metadata": {},
   "outputs": [
    {
     "data": {
      "text/plain": [
       "0.4"
      ]
     },
     "execution_count": 5,
     "metadata": {},
     "output_type": "execute_result"
    }
   ],
   "source": [
    "0.1+0.3"
   ]
  },
  {
   "cell_type": "code",
   "execution_count": 7,
   "id": "120c7c57-117f-4165-b08e-caf2454545ae",
   "metadata": {},
   "outputs": [
    {
     "data": {
      "text/plain": [
       "0.2"
      ]
     },
     "execution_count": 7,
     "metadata": {},
     "output_type": "execute_result"
    }
   ],
   "source": [
    "0.1+0.1"
   ]
  },
  {
   "cell_type": "markdown",
   "id": "26a46e12-eac5-4fee-87d9-6c3677f79801",
   "metadata": {},
   "source": [
    "<em>heheh</em>"
   ]
  },
  {
   "cell_type": "code",
   "execution_count": null,
   "id": "60c82277-32e2-4243-88fb-5b7725c00a99",
   "metadata": {},
   "outputs": [],
   "source": []
  }
 ],
 "metadata": {
  "kernelspec": {
   "display_name": "Python 3 (ipykernel)",
   "language": "python",
   "name": "python3"
  },
  "language_info": {
   "codemirror_mode": {
    "name": "ipython",
    "version": 3
   },
   "file_extension": ".py",
   "mimetype": "text/x-python",
   "name": "python",
   "nbconvert_exporter": "python",
   "pygments_lexer": "ipython3",
   "version": "3.9.18"
  },
  "widgets": {
   "application/vnd.jupyter.widget-state+json": {
    "state": {},
    "version_major": 2,
    "version_minor": 0
   }
  }
 },
 "nbformat": 4,
 "nbformat_minor": 5
}
