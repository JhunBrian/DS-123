{
 "cells": [
  {
   "cell_type": "markdown",
   "id": "02259a12-2596-4de4-a32d-0be511f10f12",
   "metadata": {},
   "source": [
    "# **Python Set**\n",
    "\n",
    "**Instructor:** Jhun Brian M. Andam\n",
    "\n",
    "**Course:** Data Structures and Algorithm\n",
    "\n",
    "**Objectives**\n",
    "\n",
    "- Learn how to create sets\n",
    "- Explore common operations for sequence\n",
    "- Invoke set methods."
   ]
  },
  {
   "cell_type": "markdown",
   "id": "270743a9-2e23-4bf1-a4b1-336a93d6554d",
   "metadata": {},
   "source": [
    "The **set data structure** in Python is an **unordered collection** that stores **unique elements** and provides operations for membership testing, insertions, and deletions. It is implemented using a **hash table**, which allows average-case **O(1)** time complexity for operations like adding, removing, and checking for membership. Since sets are **unordered**, they do **NOT** support <b>indexing, slicing, or duplicate values</b>. Python also provides operations like **union, intersection, difference, and symmetric difference**, making sets useful for mathematical and logical operations. Additionally, Python offers **frozensets**, which are immutable versions of sets, useful in cases where hashable collections are needed (e.g., dictionary keys)."
   ]
  },
  {
   "cell_type": "code",
   "execution_count": 1,
   "id": "ed873003-86bb-4f3e-8f8e-4757b99e2cdc",
   "metadata": {},
   "outputs": [
    {
     "name": "stdout",
     "output_type": "stream",
     "text": [
      "{0, 1, 2, 3, 4}\n"
     ]
    }
   ],
   "source": [
    "# set can be declared using the function set();\n",
    "\n",
    "N = set((0, 1, 2, 3, 4))\n",
    "print(N)"
   ]
  },
  {
   "cell_type": "code",
   "execution_count": 2,
   "id": "129bf911-4592-4144-9695-9dbd624bff26",
   "metadata": {},
   "outputs": [
    {
     "name": "stdout",
     "output_type": "stream",
     "text": [
      "{0, 1, 2, -1, -2}\n"
     ]
    }
   ],
   "source": [
    "# or by literal representation\n",
    "\n",
    "Z = {-2, -1, 0, 1, 2}\n",
    "print(Z)"
   ]
  },
  {
   "cell_type": "code",
   "execution_count": 3,
   "id": "97fde987-c639-4bd8-9e25-4b292c0fb1db",
   "metadata": {},
   "outputs": [
    {
     "name": "stdout",
     "output_type": "stream",
     "text": [
      "<class 'set'>\n"
     ]
    }
   ],
   "source": [
    "# this is an empty set\n",
    "\n",
    "s = set()\n",
    "\n",
    "print(type(s))"
   ]
  },
  {
   "cell_type": "code",
   "execution_count": 4,
   "id": "2641b9f7-2a81-4de4-b717-4c1f2ddd9eb5",
   "metadata": {},
   "outputs": [
    {
     "name": "stdout",
     "output_type": "stream",
     "text": [
      "<class 'dict'>\n"
     ]
    }
   ],
   "source": [
    "# don't use {} for creating an empty set\n",
    "\n",
    "d = {}\n",
    "print(type(d))\n",
    "\n",
    "# it will come out as a dictionary"
   ]
  },
  {
   "cell_type": "markdown",
   "id": "69dbe232-80c3-4094-b44b-64a66f9b7900",
   "metadata": {},
   "source": [
    "### **Common Set Operations and Methods**"
   ]
  },
  {
   "cell_type": "code",
   "execution_count": 5,
   "id": "d7253d90-0357-4469-8e41-df7d7589545e",
   "metadata": {},
   "outputs": [
    {
     "name": "stdout",
     "output_type": "stream",
     "text": [
      "['__and__', '__class__', '__class_getitem__', '__contains__', '__delattr__', '__dir__', '__doc__', '__eq__', '__format__', '__ge__', '__getattribute__', '__gt__', '__hash__', '__iand__', '__init__', '__init_subclass__', '__ior__', '__isub__', '__iter__', '__ixor__', '__le__', '__len__', '__lt__', '__ne__', '__new__', '__or__', '__rand__', '__reduce__', '__reduce_ex__', '__repr__', '__ror__', '__rsub__', '__rxor__', '__setattr__', '__sizeof__', '__str__', '__sub__', '__subclasshook__', '__xor__', 'add', 'clear', 'copy', 'difference', 'difference_update', 'discard', 'intersection', 'intersection_update', 'isdisjoint', 'issubset', 'issuperset', 'pop', 'remove', 'symmetric_difference', 'symmetric_difference_update', 'union', 'update']\n"
     ]
    }
   ],
   "source": [
    "print(dir(set))"
   ]
  },
  {
   "cell_type": "code",
   "execution_count": 6,
   "id": "465ebec5-b311-48f3-a8c5-02add4392f2a",
   "metadata": {},
   "outputs": [],
   "source": [
    "s = set()"
   ]
  },
  {
   "cell_type": "code",
   "execution_count": 7,
   "id": "bb2eb438-944e-4a0e-8e5a-5809ca31d506",
   "metadata": {},
   "outputs": [
    {
     "name": "stdout",
     "output_type": "stream",
     "text": [
      "{0, 1, 2}\n"
     ]
    }
   ],
   "source": [
    "# set.add(obj)\n",
    "\n",
    "s.add(0)\n",
    "s.add(1)\n",
    "s.add(2)\n",
    "s.add(2)\n",
    "print(s)"
   ]
  },
  {
   "cell_type": "code",
   "execution_count": 8,
   "id": "63bf6731-10b0-42e4-ace4-9fd628a55d94",
   "metadata": {},
   "outputs": [
    {
     "name": "stdout",
     "output_type": "stream",
     "text": [
      "{0, 1, 2}\n",
      "{0, 1, 2}\n"
     ]
    }
   ],
   "source": [
    "# set.copy()\n",
    "# shallow copy of a set.\n",
    "\n",
    "t = s.copy()\n",
    "print(s)\n",
    "print(t)"
   ]
  },
  {
   "cell_type": "code",
   "execution_count": 9,
   "id": "65ee4e59-811c-4b6e-b16b-24dc1848f77c",
   "metadata": {},
   "outputs": [
    {
     "name": "stdout",
     "output_type": "stream",
     "text": [
      "{0, 2}\n"
     ]
    }
   ],
   "source": [
    "# set.discard(obj)\n",
    "# Remove an element from a set if it is a member. If the element is not a member, do nothing.\n",
    "\n",
    "t.discard(1)\n",
    "print(t)"
   ]
  },
  {
   "cell_type": "code",
   "execution_count": 10,
   "id": "bf711af9-5747-4ddc-b8c6-1805245e9f15",
   "metadata": {},
   "outputs": [],
   "source": [
    "s = {1,2,3,4,5,6,7,8,9}"
   ]
  },
  {
   "cell_type": "code",
   "execution_count": 11,
   "id": "ec4de816-5d25-4df4-a64d-9cfce558cb09",
   "metadata": {},
   "outputs": [
    {
     "name": "stdout",
     "output_type": "stream",
     "text": [
      "{2, 3, 4, 5, 6, 7, 8, 9}\n"
     ]
    }
   ],
   "source": [
    "# set.pop()\n",
    "# Remove and return an arbitrary set element.\n",
    "\n",
    "s.pop()\n",
    "print(s)"
   ]
  },
  {
   "cell_type": "code",
   "execution_count": 12,
   "id": "45ad8304-7b51-4d2f-931d-4eb41111d589",
   "metadata": {},
   "outputs": [
    {
     "name": "stdout",
     "output_type": "stream",
     "text": [
      "{0}\n"
     ]
    }
   ],
   "source": [
    "# set.remove()\n",
    "# Remove an element from a set; it must be a member.\n",
    "\n",
    "t.remove(2)\n",
    "print(t)"
   ]
  },
  {
   "cell_type": "markdown",
   "id": "e4ac6353-78aa-4ad2-a542-5b59f2589937",
   "metadata": {},
   "source": [
    "#### **Set Relations**\n",
    "\n",
    "1. Subset\n",
    "2. Superset\n",
    "3. Disjoint\n",
    "4. Universal set\n",
    "5. Null set"
   ]
  },
  {
   "cell_type": "code",
   "execution_count": 13,
   "id": "e28d347f-3718-4e24-8fb1-45ccf786cb7a",
   "metadata": {},
   "outputs": [],
   "source": [
    "Univ = set([x for x in range(11)])\n",
    "Super = set([x for x in range(11) if x%2==0])\n",
    "disj = set([x for x in range(11) if x%2==1])\n",
    "Sub = set([4,6])\n",
    "Null = set([x for x in range(11) if x>10])"
   ]
  },
  {
   "cell_type": "code",
   "execution_count": 14,
   "id": "b62e9d32-672f-429e-a739-0ee5868156b9",
   "metadata": {},
   "outputs": [
    {
     "name": "stdout",
     "output_type": "stream",
     "text": [
      "Universal set (all the positive integers up to 10): {0, 1, 2, 3, 4, 5, 6, 7, 8, 9, 10}\n",
      "All the even positive integers up to 10: {0, 2, 4, 6, 8, 10}\n",
      "All the odd positive integers up to 10: {1, 3, 5, 7, 9}\n",
      "Set of 2 elements, 4 and 6: {4, 6}\n",
      "A null set: set()\n"
     ]
    }
   ],
   "source": [
    "print(\"Universal set (all the positive integers up to 10):\",Univ)\n",
    "print(\"All the even positive integers up to 10:\",Super)\n",
    "print(\"All the odd positive integers up to 10:\",disj)\n",
    "print(\"Set of 2 elements, 4 and 6:\",Sub)\n",
    "print(\"A null set:\", Null)"
   ]
  },
  {
   "cell_type": "code",
   "execution_count": 15,
   "id": "01afae55-8104-4524-83e8-8cca4005c34e",
   "metadata": {},
   "outputs": [
    {
     "data": {
      "text/plain": [
       "True"
      ]
     },
     "execution_count": 15,
     "metadata": {},
     "output_type": "execute_result"
    }
   ],
   "source": [
    "Super.issuperset(Sub)"
   ]
  },
  {
   "cell_type": "code",
   "execution_count": 16,
   "id": "aea78252-8965-417e-949d-0e560938515c",
   "metadata": {},
   "outputs": [
    {
     "data": {
      "text/plain": [
       "True"
      ]
     },
     "execution_count": 16,
     "metadata": {},
     "output_type": "execute_result"
    }
   ],
   "source": [
    "Super.issubset(Univ)"
   ]
  },
  {
   "cell_type": "code",
   "execution_count": 17,
   "id": "f6f30a65-45e8-4de8-b4e9-574bc8a94532",
   "metadata": {},
   "outputs": [
    {
     "data": {
      "text/plain": [
       "True"
      ]
     },
     "execution_count": 17,
     "metadata": {},
     "output_type": "execute_result"
    }
   ],
   "source": [
    "Sub.issubset(Super)"
   ]
  },
  {
   "cell_type": "code",
   "execution_count": 18,
   "id": "5adcd7ba-ca52-462f-9c40-1ca7e9c594f7",
   "metadata": {},
   "outputs": [
    {
     "data": {
      "text/plain": [
       "False"
      ]
     },
     "execution_count": 18,
     "metadata": {},
     "output_type": "execute_result"
    }
   ],
   "source": [
    "Sub.issuperset(Super)"
   ]
  },
  {
   "cell_type": "markdown",
   "id": "9e7e45f3-bb03-427c-86fc-96cdfe3afd50",
   "metadata": {},
   "source": [
    "<center><img src=\"https://cms.boardmix.com/images/articles/three-or-more-sets-in-a-venn-diagram.png\" width=\"400px\"></center>"
   ]
  },
  {
   "cell_type": "code",
   "execution_count": 19,
   "id": "e3f41a70-eb00-49d6-827b-7104dc2c1851",
   "metadata": {},
   "outputs": [],
   "source": [
    "a = {'baseball', 'soccer', 'softball'}\n",
    "b = {'basketball', 'soccer', 'softball'}\n",
    "c = {'soccer', 'swimming'}"
   ]
  },
  {
   "cell_type": "markdown",
   "id": "510ee71f-f713-4a49-86b3-8751b5ebdcf1",
   "metadata": {},
   "source": [
    "**Union**"
   ]
  },
  {
   "cell_type": "code",
   "execution_count": 20,
   "id": "4d6039e6-425f-4023-90d0-c51868ba52d8",
   "metadata": {},
   "outputs": [
    {
     "data": {
      "text/plain": [
       "{'baseball', 'basketball', 'soccer', 'softball'}"
      ]
     },
     "execution_count": 20,
     "metadata": {},
     "output_type": "execute_result"
    }
   ],
   "source": [
    "a.union(b)"
   ]
  },
  {
   "cell_type": "code",
   "execution_count": 21,
   "id": "427aacf2-51f7-4673-b3c8-26d6e2107f5c",
   "metadata": {},
   "outputs": [
    {
     "data": {
      "text/plain": [
       "{'baseball', 'soccer', 'softball', 'swimming'}"
      ]
     },
     "execution_count": 21,
     "metadata": {},
     "output_type": "execute_result"
    }
   ],
   "source": [
    "a.union(c)"
   ]
  },
  {
   "cell_type": "code",
   "execution_count": 22,
   "id": "b7e5897a-4772-4ce5-a254-5531b6bf993a",
   "metadata": {},
   "outputs": [
    {
     "data": {
      "text/plain": [
       "{'basketball', 'soccer', 'softball', 'swimming'}"
      ]
     },
     "execution_count": 22,
     "metadata": {},
     "output_type": "execute_result"
    }
   ],
   "source": [
    "b.union(c)"
   ]
  },
  {
   "cell_type": "code",
   "execution_count": 23,
   "id": "d9e72d37-1f18-4003-ba49-d746e49e3e01",
   "metadata": {},
   "outputs": [
    {
     "data": {
      "text/plain": [
       "{'baseball', 'basketball', 'soccer', 'softball', 'swimming'}"
      ]
     },
     "execution_count": 23,
     "metadata": {},
     "output_type": "execute_result"
    }
   ],
   "source": [
    "a.union(b).union(c)"
   ]
  },
  {
   "cell_type": "markdown",
   "id": "a646dbef-aba8-41c8-95b9-f3c9aa5b3962",
   "metadata": {},
   "source": [
    "**Intersection**"
   ]
  },
  {
   "cell_type": "code",
   "execution_count": 24,
   "id": "13d56c1d-d97c-4557-b228-154fa1c7eb03",
   "metadata": {},
   "outputs": [
    {
     "data": {
      "text/plain": [
       "{'soccer', 'softball'}"
      ]
     },
     "execution_count": 24,
     "metadata": {},
     "output_type": "execute_result"
    }
   ],
   "source": [
    "a.intersection(b)"
   ]
  },
  {
   "cell_type": "code",
   "execution_count": 25,
   "id": "ab3dfc4e-33fb-4752-9004-ffcb49736750",
   "metadata": {},
   "outputs": [
    {
     "data": {
      "text/plain": [
       "{'soccer'}"
      ]
     },
     "execution_count": 25,
     "metadata": {},
     "output_type": "execute_result"
    }
   ],
   "source": [
    "a.intersection(c)"
   ]
  },
  {
   "cell_type": "code",
   "execution_count": 26,
   "id": "5250fcef-906b-403a-a12a-ed7fbc32f8e8",
   "metadata": {},
   "outputs": [
    {
     "data": {
      "text/plain": [
       "{'soccer'}"
      ]
     },
     "execution_count": 26,
     "metadata": {},
     "output_type": "execute_result"
    }
   ],
   "source": [
    "b.intersection(c)"
   ]
  },
  {
   "cell_type": "code",
   "execution_count": 27,
   "id": "5d44c25c-5773-43e5-a3d4-8134e2543db9",
   "metadata": {},
   "outputs": [
    {
     "data": {
      "text/plain": [
       "{'soccer'}"
      ]
     },
     "execution_count": 27,
     "metadata": {},
     "output_type": "execute_result"
    }
   ],
   "source": [
    "a.intersection(b).intersection(c)"
   ]
  },
  {
   "cell_type": "markdown",
   "id": "fcd9f6da-03c7-465a-8193-b9b438bc0201",
   "metadata": {},
   "source": [
    "**Difference**\n",
    "\n",
    "<center><img src=\"https://files.realpython.com/media/t.b37d6f78f99a.png\" width=\"500px\"></center>"
   ]
  },
  {
   "cell_type": "code",
   "execution_count": 28,
   "id": "b71b653d-f891-4300-a6d9-e18fb1560cfd",
   "metadata": {},
   "outputs": [
    {
     "data": {
      "text/plain": [
       "{'baseball'}"
      ]
     },
     "execution_count": 28,
     "metadata": {},
     "output_type": "execute_result"
    }
   ],
   "source": [
    "a - b"
   ]
  },
  {
   "cell_type": "code",
   "execution_count": 29,
   "id": "91277abb-3fba-4671-b962-6a570a781895",
   "metadata": {},
   "outputs": [
    {
     "data": {
      "text/plain": [
       "{'baseball'}"
      ]
     },
     "execution_count": 29,
     "metadata": {},
     "output_type": "execute_result"
    }
   ],
   "source": [
    "a.difference(b)"
   ]
  },
  {
   "cell_type": "code",
   "execution_count": 30,
   "id": "e05bd62e-9592-437b-bef8-0ef39352a2b4",
   "metadata": {},
   "outputs": [
    {
     "data": {
      "text/plain": [
       "{'basketball'}"
      ]
     },
     "execution_count": 30,
     "metadata": {},
     "output_type": "execute_result"
    }
   ],
   "source": [
    "b.difference(a)"
   ]
  }
 ],
 "metadata": {
  "kernelspec": {
   "display_name": "Python 3 (ipykernel)",
   "language": "python",
   "name": "python3"
  },
  "language_info": {
   "codemirror_mode": {
    "name": "ipython",
    "version": 3
   },
   "file_extension": ".py",
   "mimetype": "text/x-python",
   "name": "python",
   "nbconvert_exporter": "python",
   "pygments_lexer": "ipython3",
   "version": "3.9.18"
  },
  "widgets": {
   "application/vnd.jupyter.widget-state+json": {
    "state": {},
    "version_major": 2,
    "version_minor": 0
   }
  }
 },
 "nbformat": 4,
 "nbformat_minor": 5
}
