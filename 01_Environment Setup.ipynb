{
 "cells": [
  {
   "cell_type": "markdown",
   "id": "2f15a86c-5b1a-4a85-ae72-6f1885a30df2",
   "metadata": {},
   "source": [
    "# Python and Environment Installation\n",
    "\n",
    "**Instructor:** Jhun Brian M. Andam\n",
    "\n",
    "**Course:** Data Structures and Algorithm\n",
    "\n",
    "**Objectives**\n",
    "\n",
    "- Install Python programming language and required packages to local machine.\n",
    "- Implement basic algorithms for kickstarting python journey."
   ]
  },
  {
   "cell_type": "markdown",
   "id": "a94acb2b-d6eb-4e89-8233-e6d3f011c21a",
   "metadata": {},
   "source": [
    "<center><img src=\"https://upload.wikimedia.org/wikipedia/commons/c/c3/Python-logo-notext.svg\" width=\"150px\"></center>\n",
    "\n",
    "Python is a high-level, interpreted, object-oriented programming language known for its dynamic semantics. Its robust built-in data structures, combined with dynamic typing and binding, make it an excellent choice for Rapid Application Development and as a scripting language to integrate different components. Python’s straightforward and easy-to-learn syntax enhances code readability, which helps lower the cost of maintaining programs. With support for modules and packages, Python promotes modular design and code reuse. The Python interpreter, along with its comprehensive standard library, is freely available in both source and binary formats across all major platforms, making it accessible and distributable without cost.\n",
    "\n",
    "Python is an excellent choice for learning data structures and algorithms due to its simplicity and readability, which allow learners to focus on understanding core concepts rather than getting bogged down by complex syntax. Its extensive standard library provides built-in support for commonly used data structures like lists, dictionaries, and sets, enabling hands-on experimentation with minimal setup.\n",
    "\n",
    "- https://www.python.org/doc/essays/blurb/"
   ]
  },
  {
   "cell_type": "markdown",
   "id": "c3f0433b-dadd-4a96-9d0b-a83bbb0998b0",
   "metadata": {},
   "source": [
    "### Python Installation Steps\n",
    "\n",
    "1. Download Python\n",
    "    - Proceed to https://www.python.org/downloads/ and select the version suitable for your operating system (Windows, macOS, or Linux), click the download button.\n",
    "2. Run the Installer\n",
    "    - Open the downloaded installer and proceed to clicking the next button.\n",
    "3. Verify installation\n",
    "    - Open command prompt and type <tt><code>python --version</code></tt>.\n",
    "    - Ensure the version number appears.\n",
    "4. Check pip\n",
    "    - pip usually comes pre-installed with Python. To check, type <tt><code>pip --version</code></tt>.\n",
    "    - If it did not work, you may follow this <a href=\"https://pip.pypa.io/en/stable/installation/\">documentation</a> for the installation instructions."
   ]
  },
  {
   "attachments": {},
   "cell_type": "markdown",
   "id": "7d4bf6bf-6919-473b-803e-b07b61b36f9d",
   "metadata": {},
   "source": [
    "<center><img src=\"https://jupyter.org/assets/homepage/main-logo.svg\" width=\"100px\"></center>\n",
    "\n",
    "Jupyter Notebook is a browser-based tool, which means it requires a server to serve the pages to your browser. When you launch Jupyter from the command line, you’re essentially starting this server.\n",
    "\n",
    "Jupyter Notebooks are particularly useful when you need to present your code, its outputs, and explanatory commentary in a single environment. They are widely used in scientific computing, as they allow peers to review the code execution, evaluate the outputs, and critique the methodologies being applied. Additionally, Jupyter supports Markdown for clear documentation, making it easy to provide context and create visually appealing notes about your work."
   ]
  },
  {
   "cell_type": "markdown",
   "id": "db0dad20-2b61-4164-a770-de0479bb4aaa",
   "metadata": {},
   "source": [
    "### Jupyter Installation\n",
    "\n",
    "1. Open command prompt and execute the following line of code.\n",
    "   - <tt><code>pip install notebook</code></tt>\n",
    "2. Wait until the download is finished and verify the notebook's installation by typing in the same terminal the following line of code.\n",
    "   - <tt><code>jupyter notebook --version</code></tt>"
   ]
  },
  {
   "cell_type": "markdown",
   "id": "e33247d2-95a7-4fce-b897-dbcc0892ea17",
   "metadata": {},
   "source": [
    "### Let's Review Programming Basics!\n",
    "\n",
    "\n",
    "<div class=\"alert alert-block alert-info\">\n",
    "    \n",
    "**Useful Shortcut Keys**\n",
    "\n",
    "1. <kbd>Shift</kbd> + <kbd>Enter</kbd>: **Executes** selected cell\n",
    "2. <kbd>A</kbd>: Adds a cell **above** a selected cell\n",
    "3. <kbd>B</kbd>: Adds a cell **below** a selected cell\n",
    "4. <kbd>M</kbd>: Changes a selected cell to a **markdown** cell\n",
    "5. <kbd>Y</kbd>: Changes a selected cell to a **code** cell\n",
    "6. <kbd>D</kbd> + <kbd>D</kbd>: **Deletes** a selected cell\n",
    "7. <kbd>Ctrl</kbd>+<kbd>/</kbd>: **Comment** highlighted codes\n",
    "8. <kbd>Shift</kbd>+<kbd>R-Click</kbd>: **Highlight cells**\n",
    "\n",
    "</div> \n",
    "\n",
    "\n",
    "- **Variables**\n",
    "- **Data Types**\n",
    "- **Control Structures**"
   ]
  },
  {
   "cell_type": "code",
   "execution_count": 3,
   "id": "5bdab529-b37d-4a0c-8ace-5b8a06cd203e",
   "metadata": {},
   "outputs": [
    {
     "name": "stdout",
     "output_type": "stream",
     "text": [
      "Hwllo World\n"
     ]
    }
   ],
   "source": [
    "print(\"Hwllo World\")"
   ]
  },
  {
   "cell_type": "code",
   "execution_count": 4,
   "id": "45487800-8396-41cf-a303-ca6904efbbfc",
   "metadata": {},
   "outputs": [
    {
     "data": {
      "text/plain": [
       "2.0"
      ]
     },
     "execution_count": 4,
     "metadata": {},
     "output_type": "execute_result"
    }
   ],
   "source": [
    "a = [1,2,3]\n",
    "\n",
    "sums = 0\n",
    "for i in a:\n",
    "    sums = sums + i\n",
    "\n",
    "sums / len(a)"
   ]
  }
 ],
 "metadata": {
  "kernelspec": {
   "display_name": "Python 3 (ipykernel)",
   "language": "python",
   "name": "python3"
  },
  "language_info": {
   "codemirror_mode": {
    "name": "ipython",
    "version": 3
   },
   "file_extension": ".py",
   "mimetype": "text/x-python",
   "name": "python",
   "nbconvert_exporter": "python",
   "pygments_lexer": "ipython3",
   "version": "3.9.18"
  },
  "widgets": {
   "application/vnd.jupyter.widget-state+json": {
    "state": {},
    "version_major": 2,
    "version_minor": 0
   }
  }
 },
 "nbformat": 4,
 "nbformat_minor": 5
}
