{
 "cells": [
  {
   "cell_type": "markdown",
   "id": "d621fd57-08c3-4c90-8306-a076b5d710df",
   "metadata": {},
   "source": [
    "# **Python Dictionary**\n",
    "\n",
    "**Instructor:** Jhun Brian M. Andam\n",
    "\n",
    "**Course:** Data Structures and Algorithm\n",
    "\n",
    "**Objectives**\n",
    "\n",
    "- Learn how to create dictionary\n",
    "- Explore common operations for sequence\n",
    "- Invoke dictionary methods."
   ]
  },
  {
   "cell_type": "markdown",
   "id": "6563b1de-6f10-44bb-85f1-491b7be16e52",
   "metadata": {},
   "source": [
    "A **dictionary** in Python is an unordered, mutable data structure that stores key-value pairs, where each key is unique and maps to a specific value. It is defined using curly braces `{}` with key-value pairs separated by colons, like `{key: value}`. Dictionaries provide fast lookups, modifications, and deletions based on keys, making them highly efficient for data retrieval. They support various operations, such as adding, updating, and removing elements, and can store any data type as values, including lists or other dictionaries. Common methods include `.get()`, `.keys()`, `.values()`, and `.items()`, making dictionaries versatile for many applications.\n",
    "\n",
    "- **Key-Value Pair Storage**: Stores data as `{key: value}` pairs.  \n",
    "- **Unique Keys**: Each key must be unique; duplicate keys overwrite previous values.  \n",
    "- **Mutable**: Can be modified by adding, updating, or deleting key-value pairs.  \n",
    "- **Unordered (Before Python 3.7)**: Elements were stored arbitrarily; **Ordered (Python 3.7+)**: Maintains insertion order.  \n",
    "- **Fast Lookups**: Provides efficient O(1) average-time complexity for retrieving values using keys.  \n",
    "- **Heterogeneous Data**: Keys must be immutable (e.g., strings, numbers, tuples), while values can be any data type.  \n",
    "- **Dynamic Sizing**: Automatically resizes to accommodate more elements.  \n",
    "- **Supports Nesting**: Can contain other dictionaries, lists, or complex structures as values.  "
   ]
  },
  {
   "cell_type": "code",
   "execution_count": 1,
   "id": "ef7f9183-4991-4163-8322-5aec1ba7d4da",
   "metadata": {},
   "outputs": [
    {
     "name": "stdout",
     "output_type": "stream",
     "text": [
      "<class 'dict'>\n",
      "<class 'dict'>\n"
     ]
    }
   ],
   "source": [
    "# you can declare a dictionary using the dict class or by the literal representations\n",
    "\n",
    "# creating an empty dict\n",
    "\n",
    "d1 = {}\n",
    "d2 = dict()\n",
    "\n",
    "print(type(d1))\n",
    "print(type(d2))"
   ]
  },
  {
   "cell_type": "markdown",
   "id": "75d2590b-3ac0-4353-9a04-c7233fee172a",
   "metadata": {},
   "source": [
    "In Python, a dictionary key must be **hashable**, meaning it must have a fixed hash value throughout its lifetime. Hashable objects must implement the `__hash__()` method and be immutable. \n",
    "\n",
    "**Examples of hashable objects that can be used as dictionary keys:**\n",
    "\n",
    "✅ Integers: `42`  \n",
    "✅ Floats: `3.14`  \n",
    "✅ Strings: `\"hello\"`  \n",
    "✅ Tuples (if all elements inside are also hashable): `(\"apple\", 5)`  \n",
    "✅ Frozensets: `frozenset([1, 2, 3])`  \n",
    "\n",
    "**Examples of unhashable objects that cannot be dictionary keys:**\n",
    "\n",
    "❌ Lists: `[1, 2, 3]` (mutable)  \n",
    "❌ Sets: `{1, 2, 3}` (mutable)  \n",
    "❌ Dictionaries: `{\"a\": 1}` (mutable)  \n",
    "\n",
    "So, as long as an object is **hashable**, it can be used as a dictionary key."
   ]
  },
  {
   "cell_type": "code",
   "execution_count": 2,
   "id": "514033e3-ca08-4bde-8a17-32951132223b",
   "metadata": {},
   "outputs": [],
   "source": [
    "# declaring a dictionary with values\n",
    "\n",
    "d = {\n",
    "    'section': 'ds1a', \n",
    "    'age': [10, 15, 20], \n",
    "    'gender': ['Male', 'Female', 'Female']\n",
    "}"
   ]
  },
  {
   "cell_type": "code",
   "execution_count": 3,
   "id": "23484b51-4b34-4b8d-a2cb-fb73c674eb41",
   "metadata": {},
   "outputs": [
    {
     "data": {
      "text/plain": [
       "'ds1a'"
      ]
     },
     "execution_count": 3,
     "metadata": {},
     "output_type": "execute_result"
    }
   ],
   "source": [
    "# accessing elements\n",
    "\n",
    "d['section']"
   ]
  },
  {
   "cell_type": "code",
   "execution_count": 8,
   "id": "1f69f19e-47e8-47ed-ad38-510de0661b36",
   "metadata": {},
   "outputs": [
    {
     "data": {
      "text/plain": [
       "[10, 15, 20]"
      ]
     },
     "execution_count": 8,
     "metadata": {},
     "output_type": "execute_result"
    }
   ],
   "source": [
    "d['age']"
   ]
  },
  {
   "cell_type": "code",
   "execution_count": 7,
   "id": "78aace95-1e46-4a7f-92d1-82a4ef41d837",
   "metadata": {},
   "outputs": [
    {
     "data": {
      "text/plain": [
       "20"
      ]
     },
     "execution_count": 7,
     "metadata": {},
     "output_type": "execute_result"
    }
   ],
   "source": [
    "d['age'].pop()"
   ]
  },
  {
   "cell_type": "code",
   "execution_count": 9,
   "id": "c2c4d598-7546-462c-83d8-bdb81cf605d6",
   "metadata": {},
   "outputs": [
    {
     "data": {
      "text/plain": [
       "['Male', 'Female', 'Female']"
      ]
     },
     "execution_count": 9,
     "metadata": {},
     "output_type": "execute_result"
    }
   ],
   "source": [
    "d['gender']"
   ]
  },
  {
   "cell_type": "code",
   "execution_count": 10,
   "id": "03420b80-de5c-4a13-92e4-55b016dcd964",
   "metadata": {},
   "outputs": [],
   "source": [
    "# changing elements using key\n",
    "\n",
    "d['section'] = 'it1r5'"
   ]
  },
  {
   "cell_type": "code",
   "execution_count": 11,
   "id": "106ea7be-40e9-400b-a2d6-8f2a469d2863",
   "metadata": {},
   "outputs": [
    {
     "name": "stdout",
     "output_type": "stream",
     "text": [
      "{'section': 'it1r5', 'age': [10, 15, 20], 'gender': ['Male', 'Female', 'Female']}\n"
     ]
    }
   ],
   "source": [
    "print(d)"
   ]
  },
  {
   "cell_type": "code",
   "execution_count": 12,
   "id": "8fc5d75a-4530-4be5-9006-9ba074f97cea",
   "metadata": {},
   "outputs": [],
   "source": [
    "# add items\n",
    "\n",
    "d['course'] = 'dsa'"
   ]
  },
  {
   "cell_type": "code",
   "execution_count": 13,
   "id": "949f0f32-5b2f-478f-8649-df1e3270de7f",
   "metadata": {},
   "outputs": [
    {
     "name": "stdout",
     "output_type": "stream",
     "text": [
      "{'section': 'it1r5', 'age': [10, 15, 20], 'gender': ['Male', 'Female', 'Female'], 'course': 'dsa'}\n"
     ]
    }
   ],
   "source": [
    "print(d)"
   ]
  },
  {
   "cell_type": "markdown",
   "id": "bbec3726-7fdd-4ccc-b344-166eac23aee6",
   "metadata": {},
   "source": [
    "### **Common Dictionary Methods**"
   ]
  },
  {
   "cell_type": "code",
   "execution_count": 14,
   "id": "6bd1ccc0-f504-4acf-872e-1159f9b72dee",
   "metadata": {},
   "outputs": [
    {
     "name": "stdout",
     "output_type": "stream",
     "text": [
      "['__class__', '__class_getitem__', '__contains__', '__delattr__', '__delitem__', '__dir__', '__doc__', '__eq__', '__format__', '__ge__', '__getattribute__', '__getitem__', '__gt__', '__hash__', '__init__', '__init_subclass__', '__ior__', '__iter__', '__le__', '__len__', '__lt__', '__ne__', '__new__', '__or__', '__reduce__', '__reduce_ex__', '__repr__', '__reversed__', '__ror__', '__setattr__', '__setitem__', '__sizeof__', '__str__', '__subclasshook__', 'clear', 'copy', 'fromkeys', 'get', 'items', 'keys', 'pop', 'popitem', 'setdefault', 'update', 'values']\n"
     ]
    }
   ],
   "source": [
    "print(dir(dict))"
   ]
  },
  {
   "cell_type": "code",
   "execution_count": 15,
   "id": "7f0057ef-f426-4de6-9cea-8fd13f0c47db",
   "metadata": {},
   "outputs": [],
   "source": [
    "d = {'section': 'ds1a', 'age': [10, 15, 20], 'gender': ['Male', 'Female', 'Female']}"
   ]
  },
  {
   "cell_type": "code",
   "execution_count": 16,
   "id": "a89e6770-6c75-40b5-aed9-054b64511299",
   "metadata": {},
   "outputs": [
    {
     "data": {
      "text/plain": [
       "'ds1a'"
      ]
     },
     "execution_count": 16,
     "metadata": {},
     "output_type": "execute_result"
    }
   ],
   "source": [
    "# get()\n",
    "# Return the value for key if key is in the dictionary, else default.\n",
    "\n",
    "d.get('section')"
   ]
  },
  {
   "cell_type": "code",
   "execution_count": 17,
   "id": "9a12b756-3ef1-4d17-88f7-199eb88ed1cc",
   "metadata": {},
   "outputs": [
    {
     "data": {
      "text/plain": [
       "'ds1a'"
      ]
     },
     "execution_count": 17,
     "metadata": {},
     "output_type": "execute_result"
    }
   ],
   "source": [
    "d['section']"
   ]
  },
  {
   "cell_type": "code",
   "execution_count": 18,
   "id": "a4fd6cce-7b81-4fce-9896-4fcdc112529b",
   "metadata": {},
   "outputs": [
    {
     "data": {
      "text/plain": [
       "dict_items([('section', 'ds1a'), ('age', [10, 15, 20]), ('gender', ['Male', 'Female', 'Female'])])"
      ]
     },
     "execution_count": 18,
     "metadata": {},
     "output_type": "execute_result"
    }
   ],
   "source": [
    "# items()\n",
    "# a set-like object providing a view on D's items\n",
    "\n",
    "d.items()"
   ]
  },
  {
   "cell_type": "code",
   "execution_count": 19,
   "id": "5396f819-cd07-4ed3-9673-9a410eff2ab3",
   "metadata": {},
   "outputs": [
    {
     "data": {
      "text/plain": [
       "dict_keys(['section', 'age', 'gender'])"
      ]
     },
     "execution_count": 19,
     "metadata": {},
     "output_type": "execute_result"
    }
   ],
   "source": [
    "# keys()\n",
    "# a set-like object providing a view on D's keys\n",
    "\n",
    "d.keys()"
   ]
  },
  {
   "cell_type": "code",
   "execution_count": 20,
   "id": "1a70062b-bb05-493e-ad6c-a0aec606a795",
   "metadata": {},
   "outputs": [
    {
     "name": "stdout",
     "output_type": "stream",
     "text": [
      "{'age': [10, 15, 20], 'gender': ['Male', 'Female', 'Female']}\n"
     ]
    }
   ],
   "source": [
    "# pop()\n",
    "# remove specified key and return the corresponding value.\n",
    "\n",
    "x = d.pop('section')\n",
    "\n",
    "print(d)"
   ]
  },
  {
   "cell_type": "code",
   "execution_count": 21,
   "id": "573aa3b0-aaeb-4ab7-8073-a6a9226ac3f5",
   "metadata": {},
   "outputs": [
    {
     "data": {
      "text/plain": [
       "'ds1a'"
      ]
     },
     "execution_count": 21,
     "metadata": {},
     "output_type": "execute_result"
    }
   ],
   "source": [
    "x"
   ]
  },
  {
   "cell_type": "code",
   "execution_count": 23,
   "id": "f1119f4d-ba95-4471-be70-224d98c82fbc",
   "metadata": {},
   "outputs": [
    {
     "name": "stdout",
     "output_type": "stream",
     "text": [
      "{}\n"
     ]
    }
   ],
   "source": [
    "# popitem()\n",
    "# Remove and return a (key, value) pair as a 2-tuple.\n",
    "\n",
    "x = d.popitem()\n",
    "\n",
    "print(d)"
   ]
  },
  {
   "cell_type": "code",
   "execution_count": 24,
   "id": "603b6535-068c-44cf-8bb2-626979449de6",
   "metadata": {},
   "outputs": [
    {
     "data": {
      "text/plain": [
       "('age', [10, 15, 20])"
      ]
     },
     "execution_count": 24,
     "metadata": {},
     "output_type": "execute_result"
    }
   ],
   "source": [
    "x"
   ]
  },
  {
   "cell_type": "code",
   "execution_count": 25,
   "id": "0b3c8774-b696-4453-a40c-993601aecf4f",
   "metadata": {},
   "outputs": [
    {
     "name": "stdout",
     "output_type": "stream",
     "text": [
      "{'hehe': None}\n"
     ]
    }
   ],
   "source": [
    "# setdefault()\n",
    "# Insert key with a value of default if key is not in the dictionary.\n",
    "\n",
    "d.setdefault('hehe')\n",
    "\n",
    "print(d)"
   ]
  },
  {
   "cell_type": "code",
   "execution_count": 30,
   "id": "066313fc-5f4d-416b-83f5-00d7f68e4d1c",
   "metadata": {},
   "outputs": [
    {
     "name": "stdout",
     "output_type": "stream",
     "text": [
      "{'hehe': None, 'key': 'value'}\n"
     ]
    }
   ],
   "source": [
    "# update()\n",
    "# Update D from dict/iterable E and F\n",
    "\n",
    "d.update({'key':'value'})\n",
    "\n",
    "print(d)"
   ]
  },
  {
   "cell_type": "code",
   "execution_count": 31,
   "id": "986df7e1-7349-458a-9a76-c1dc9f3bd947",
   "metadata": {},
   "outputs": [
    {
     "data": {
      "text/plain": [
       "dict_values([None, 'value'])"
      ]
     },
     "execution_count": 31,
     "metadata": {},
     "output_type": "execute_result"
    }
   ],
   "source": [
    "# values()\n",
    "# an object providing a view on D's values\n",
    "\n",
    "d.values()"
   ]
  },
  {
   "cell_type": "markdown",
   "id": "408430b4-41b5-4f08-a558-def2353c5a69",
   "metadata": {},
   "source": [
    "### **JSON File**"
   ]
  },
  {
   "cell_type": "code",
   "execution_count": 32,
   "id": "06fe63d0-4cfb-449d-b050-991481aa1b91",
   "metadata": {},
   "outputs": [],
   "source": [
    "import json\n",
    "with open('data/pokedex.json', encoding='utf+8') as f:\n",
    "    data = json.load(f)"
   ]
  },
  {
   "cell_type": "code",
   "execution_count": 34,
   "id": "aa301e00-3aae-4302-9dfd-2586988c4651",
   "metadata": {},
   "outputs": [
    {
     "data": {
      "text/plain": [
       "list"
      ]
     },
     "execution_count": 34,
     "metadata": {},
     "output_type": "execute_result"
    }
   ],
   "source": [
    "type(data)"
   ]
  },
  {
   "cell_type": "code",
   "execution_count": 36,
   "id": "9f3a2bcf-5400-4e9f-a9ab-4d77f00b2600",
   "metadata": {},
   "outputs": [
    {
     "data": {
      "text/plain": [
       "dict"
      ]
     },
     "execution_count": 36,
     "metadata": {},
     "output_type": "execute_result"
    }
   ],
   "source": [
    "type(data[0])"
   ]
  },
  {
   "cell_type": "code",
   "execution_count": 43,
   "id": "a9adb6fe-41ca-423a-96c1-d3cdcdebb8f6",
   "metadata": {},
   "outputs": [
    {
     "data": {
      "text/plain": [
       "'妙蛙种子'"
      ]
     },
     "execution_count": 43,
     "metadata": {},
     "output_type": "execute_result"
    }
   ],
   "source": [
    "data[0]['name']['chinese']"
   ]
  },
  {
   "cell_type": "code",
   "execution_count": 46,
   "id": "a9003d52-4b8a-4161-892f-3466e363c819",
   "metadata": {},
   "outputs": [
    {
     "data": {
      "text/plain": [
       "dict_keys(['id', 'name', 'type', 'base'])"
      ]
     },
     "execution_count": 46,
     "metadata": {},
     "output_type": "execute_result"
    }
   ],
   "source": [
    "data[0].keys()"
   ]
  },
  {
   "cell_type": "code",
   "execution_count": 49,
   "id": "ad9dfebd-2ac5-4950-8e64-63c53fd20b94",
   "metadata": {},
   "outputs": [
    {
     "data": {
      "text/plain": [
       "{'english': 'Bulbasaur',\n",
       " 'japanese': 'フシギダネ',\n",
       " 'chinese': '妙蛙种子',\n",
       " 'french': 'Bulbizarre'}"
      ]
     },
     "execution_count": 49,
     "metadata": {},
     "output_type": "execute_result"
    }
   ],
   "source": [
    "data[0]['name']"
   ]
  },
  {
   "cell_type": "code",
   "execution_count": 50,
   "id": "1409ea71-6802-478d-beab-3195af334c53",
   "metadata": {},
   "outputs": [
    {
     "data": {
      "text/plain": [
       "['Grass', 'Poison']"
      ]
     },
     "execution_count": 50,
     "metadata": {},
     "output_type": "execute_result"
    }
   ],
   "source": [
    "data[0]['type']"
   ]
  },
  {
   "cell_type": "code",
   "execution_count": 52,
   "id": "2a8582ad-6587-4d24-a434-b6347bad8c15",
   "metadata": {},
   "outputs": [
    {
     "data": {
      "text/plain": [
       "{'HP': 45,\n",
       " 'Attack': 49,\n",
       " 'Defense': 49,\n",
       " 'Sp. Attack': 65,\n",
       " 'Sp. Defense': 65,\n",
       " 'Speed': 45}"
      ]
     },
     "execution_count": 52,
     "metadata": {},
     "output_type": "execute_result"
    }
   ],
   "source": [
    "data[0]['base']"
   ]
  },
  {
   "cell_type": "code",
   "execution_count": 53,
   "id": "d4277377-722d-4621-9214-2cec8db2ef2c",
   "metadata": {},
   "outputs": [],
   "source": [
    "# get the english names of all the pokemon"
   ]
  },
  {
   "cell_type": "code",
   "execution_count": 70,
   "id": "36982dda-1d4b-4be9-9c03-5e9e8b167517",
   "metadata": {},
   "outputs": [],
   "source": [
    "hp_dict = {'name':[], 'hp':[]}\n",
    "\n",
    "for e in data:\n",
    "    if e['base']['HP'] >= 50:\n",
    "        hp_dict['name'].append(e['name']['english'])\n",
    "        hp_dict['hp'].append(e['base']['HP'])"
   ]
  },
  {
   "cell_type": "code",
   "execution_count": 71,
   "id": "d8ddccdb-91bf-40fb-843a-32094b48d244",
   "metadata": {},
   "outputs": [],
   "source": [
    "import pandas as pd"
   ]
  },
  {
   "cell_type": "code",
   "execution_count": 72,
   "id": "61271cc9-427a-4d53-b31a-680eae7436b8",
   "metadata": {},
   "outputs": [],
   "source": [
    "df = pd.DataFrame(hp_dict)"
   ]
  },
  {
   "cell_type": "code",
   "execution_count": 73,
   "id": "f1b5db55-9add-4928-9718-8f3f4ce6424f",
   "metadata": {},
   "outputs": [
    {
     "data": {
      "text/html": [
       "<div>\n",
       "<style scoped>\n",
       "    .dataframe tbody tr th:only-of-type {\n",
       "        vertical-align: middle;\n",
       "    }\n",
       "\n",
       "    .dataframe tbody tr th {\n",
       "        vertical-align: top;\n",
       "    }\n",
       "\n",
       "    .dataframe thead th {\n",
       "        text-align: right;\n",
       "    }\n",
       "</style>\n",
       "<table border=\"1\" class=\"dataframe\">\n",
       "  <thead>\n",
       "    <tr style=\"text-align: right;\">\n",
       "      <th></th>\n",
       "      <th>name</th>\n",
       "      <th>hp</th>\n",
       "    </tr>\n",
       "  </thead>\n",
       "  <tbody>\n",
       "    <tr>\n",
       "      <th>0</th>\n",
       "      <td>Ivysaur</td>\n",
       "      <td>60</td>\n",
       "    </tr>\n",
       "    <tr>\n",
       "      <th>1</th>\n",
       "      <td>Venusaur</td>\n",
       "      <td>80</td>\n",
       "    </tr>\n",
       "    <tr>\n",
       "      <th>2</th>\n",
       "      <td>Charmeleon</td>\n",
       "      <td>58</td>\n",
       "    </tr>\n",
       "    <tr>\n",
       "      <th>3</th>\n",
       "      <td>Charizard</td>\n",
       "      <td>78</td>\n",
       "    </tr>\n",
       "    <tr>\n",
       "      <th>4</th>\n",
       "      <td>Wartortle</td>\n",
       "      <td>59</td>\n",
       "    </tr>\n",
       "    <tr>\n",
       "      <th>...</th>\n",
       "      <td>...</td>\n",
       "      <td>...</td>\n",
       "    </tr>\n",
       "    <tr>\n",
       "      <th>640</th>\n",
       "      <td>Naganadel</td>\n",
       "      <td>73</td>\n",
       "    </tr>\n",
       "    <tr>\n",
       "      <th>641</th>\n",
       "      <td>Stakataka</td>\n",
       "      <td>61</td>\n",
       "    </tr>\n",
       "    <tr>\n",
       "      <th>642</th>\n",
       "      <td>Blacephalon</td>\n",
       "      <td>53</td>\n",
       "    </tr>\n",
       "    <tr>\n",
       "      <th>643</th>\n",
       "      <td>Zeraora</td>\n",
       "      <td>88</td>\n",
       "    </tr>\n",
       "    <tr>\n",
       "      <th>644</th>\n",
       "      <td>Melmetal</td>\n",
       "      <td>135</td>\n",
       "    </tr>\n",
       "  </tbody>\n",
       "</table>\n",
       "<p>645 rows × 2 columns</p>\n",
       "</div>"
      ],
      "text/plain": [
       "            name   hp\n",
       "0        Ivysaur   60\n",
       "1       Venusaur   80\n",
       "2     Charmeleon   58\n",
       "3      Charizard   78\n",
       "4      Wartortle   59\n",
       "..           ...  ...\n",
       "640    Naganadel   73\n",
       "641    Stakataka   61\n",
       "642  Blacephalon   53\n",
       "643      Zeraora   88\n",
       "644     Melmetal  135\n",
       "\n",
       "[645 rows x 2 columns]"
      ]
     },
     "execution_count": 73,
     "metadata": {},
     "output_type": "execute_result"
    }
   ],
   "source": [
    "df"
   ]
  },
  {
   "cell_type": "code",
   "execution_count": 77,
   "id": "42d56ad8-824f-4e45-8b53-2fdd4ab3527d",
   "metadata": {},
   "outputs": [
    {
     "data": {
      "text/plain": [
       "[0, 'j', 2, 'j', 4, 'j', 6, 'j', 8, 'j']"
      ]
     },
     "execution_count": 77,
     "metadata": {},
     "output_type": "execute_result"
    }
   ],
   "source": [
    "[i if i%2 == 0 else 'j' for i in range(10)]"
   ]
  },
  {
   "cell_type": "code",
   "execution_count": null,
   "id": "00c64a3c-4c35-48fb-a4b0-a8419f2a6450",
   "metadata": {},
   "outputs": [],
   "source": []
  }
 ],
 "metadata": {
  "kernelspec": {
   "display_name": "Python 3 (ipykernel)",
   "language": "python",
   "name": "python3"
  },
  "language_info": {
   "codemirror_mode": {
    "name": "ipython",
    "version": 3
   },
   "file_extension": ".py",
   "mimetype": "text/x-python",
   "name": "python",
   "nbconvert_exporter": "python",
   "pygments_lexer": "ipython3",
   "version": "3.9.18"
  },
  "widgets": {
   "application/vnd.jupyter.widget-state+json": {
    "state": {},
    "version_major": 2,
    "version_minor": 0
   }
  }
 },
 "nbformat": 4,
 "nbformat_minor": 5
}
