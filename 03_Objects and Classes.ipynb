{
 "cells": [
  {
   "cell_type": "markdown",
   "id": "8ab6dac5-0b65-4e8c-9dca-6653205c277b",
   "metadata": {},
   "source": [
    "# **Objects and Classes**\n",
    "\n",
    "**Instructor:** Jhun Brian M. Andam\n",
    "\n",
    "**Course:** Data Structures and Algorithm\n",
    "\n",
    "**Objectives**\n",
    "\n",
    "- Understand the Concept of Classes and Objects in Python\n",
    "- Apply Object-Oriented Programming (OOP) Principles in Python"
   ]
  },
  {
   "cell_type": "markdown",
   "id": "3a4e1a9d-7a6a-441d-81e8-56baac86ffb4",
   "metadata": {},
   "source": [
    "<center><img src=\"https://preview.redd.it/4xn19gxyn6161.jpg?auto=webp&s=5f8ce6cddbda8dada121c7a9a60cd64f1aec5307\" width=\"500px\"></center>\n",
    "\n",
    "\n",
    "### **\"Everything\" in Python is an Object**\n",
    "\n",
    "**All data types, whether primitive or user-defined—are instances of some class**. This principle is a core feature of Python’s object-oriented programming (OOP) paradigm and allows for a consistent and flexible approach to handling data and operations.\n",
    "\n",
    "In Python, objects and classes are fundamental concepts of object-oriented programming (OOP), which allows developers to structure their code in a modular, reusable, and scalable way. A class serves as a blueprint for creating objects, encapsulating data (attributes) and behaviors (methods) associated with a specific entity. An object, on the other hand, is an instance of a class, containing its own unique data while sharing the class’s structure and behavior."
   ]
  },
  {
   "cell_type": "markdown",
   "id": "b3edbec5-125b-4325-9002-b8b800453f72",
   "metadata": {},
   "source": [
    "### **The House Analogy**\n",
    "\n",
    "<div style=\"display: flex; justify-content: center; gap: 10px;\">\n",
    "    <img src=\"https://java-programming.mooc.fi/static/3e3cb88f5c67f695e09cb1f2a87ea64a/47e4b/rintamamiestalo-rakennuspiirrustus.webp\" alt=\"Image 1\" style=\"width: 500px; height: auto;\">\n",
    "    <img src=\"https://java-programming.mooc.fi/static/9203de59c88f6e5453d577ea2dda7ac2/4b190/rintamamiestalo.jpg\" alt=\"Image 2\" style=\"width: 500px; height: auto;\">\n",
    "</div>\n",
    "\n",
    "https://java-programming.mooc.fi/part-4/1-introduction-to-object-oriented-programming\n",
    "\n",
    "1. **The Blueprint (Class)** – This represents the class because it defines the structure of the house. It specifies the number of rooms, dimensions, and layout, but it doesn’t decide the exact materials, colors, or furniture.\n",
    "\n",
    "2. **The Realized House (Object)** – This is an object created from the blueprint. It follows the defined structure (same number of rooms and dimensions), but specific details like wall colors, flooring material, and decorations can vary.\n",
    "\n",
    "This shows that **objects** can be different while still adhering to the **class** definition, just like how two houses built from the same blueprint can look slightly different due to material choices. "
   ]
  },
  {
   "cell_type": "markdown",
   "id": "46bb7376-cf4f-4168-a8a5-c90ec539c84e",
   "metadata": {},
   "source": [
    "Classes and objects are fundamental concepts in object-oriented programming (OOP), and they play a significant role in learning and implementing data structures in Python for several reasons:\n",
    "\n",
    "- **Abstraction and Encapsulation:** Classes provide a way to encapsulate data (attributes) and behavior (methods) into a single unit. This allows you to abstract away the complexities of the data structure's implementation, making it easier to understand and use. For example, you can encapsulate the details of how a linked list or a tree works within their respective classes.\n",
    "- **Modularity and Reusability:** With classes, you can create modular and reusable components. Once you define a class for a particular data structure, you can instantiate multiple objects (instances) of that class, each representing a separate instance of the data structure. This modularity enables you to reuse the same implementation across different parts of your program or even in different projects.\n",
    "- **Customization and Extension:** Classes allow you to define custom data structures tailored to specific requirements. You can define additional methods and properties within a class to extend its functionality as needed. For instance, you might want to add methods for searching, sorting, or other operations specific to your data structure implementation.\n",
    "- **Polymorphism and Inheritance:** These are advanced OOP concepts that can be utilized to enhance the flexibility and maintainability of your code. Polymorphism allows different classes to be treated interchangeably if they share a common interface. Inheritance enables you to create new classes (subclasses) based on existing ones (superclasses), inheriting their attributes and behaviors. This can be particularly useful when implementing variations or specialized versions of data structures.\n",
    "- **Intuitive Syntax and Readability:** Python's syntax for defining and working with classes is straightforward and intuitive. This makes it easier for learners to understand and implement data structures using classes and objects. The syntax encourages clean and readable code, which is essential for comprehending complex data structures and algorithms.\n",
    "\n",
    "And most importantly, python is an Object-Oriented Programming Language which means it supports the concepts of classes and objects as the primary means of structuring code. "
   ]
  },
  {
   "cell_type": "markdown",
   "id": "28d3449d-f975-4169-add0-4c8f4dbaf2ae",
   "metadata": {},
   "source": [
    "### **🎺🎺🎺Object or Not?🎺🎺🎺**"
   ]
  },
  {
   "cell_type": "code",
   "execution_count": null,
   "id": "864dc654-3942-4f76-a2a6-03aca8914128",
   "metadata": {},
   "outputs": [],
   "source": [
    "10"
   ]
  },
  {
   "cell_type": "code",
   "execution_count": null,
   "id": "11a2c7b4-4cfd-4a7e-a32a-19b4689480b6",
   "metadata": {},
   "outputs": [],
   "source": [
    "x = 4.0"
   ]
  },
  {
   "cell_type": "code",
   "execution_count": null,
   "id": "c6febd4c-6d43-4355-a53b-308370d6e5c6",
   "metadata": {},
   "outputs": [],
   "source": [
    "(3+7j)"
   ]
  },
  {
   "cell_type": "code",
   "execution_count": null,
   "id": "bcca4eb0-cf32-461c-953b-852a8c6c2717",
   "metadata": {},
   "outputs": [],
   "source": [
    "print"
   ]
  },
  {
   "cell_type": "code",
   "execution_count": 1,
   "id": "908ba869-65d5-4895-8a24-a582acf992f6",
   "metadata": {
    "scrolled": true
   },
   "outputs": [],
   "source": [
    "y = lambda x : 3 * x + 1.5"
   ]
  },
  {
   "cell_type": "code",
   "execution_count": 3,
   "id": "7acbfe33-3284-4ff3-9002-0223de8cca8b",
   "metadata": {},
   "outputs": [],
   "source": [
    "def ying_gravity():\n",
    "    print('Wooahh')"
   ]
  },
  {
   "cell_type": "code",
   "execution_count": null,
   "id": "94dba612-feb3-4589-b5d0-c5d1247195a6",
   "metadata": {},
   "outputs": [],
   "source": [
    "class"
   ]
  },
  {
   "cell_type": "code",
   "execution_count": null,
   "id": "ed71a7f7-2d72-4d56-ac25-7025af9ecd6d",
   "metadata": {},
   "outputs": [],
   "source": [
    "list"
   ]
  },
  {
   "cell_type": "code",
   "execution_count": null,
   "id": "2b58116e-9923-472d-af09-3853d059e0b8",
   "metadata": {},
   "outputs": [],
   "source": [
    "dir"
   ]
  },
  {
   "cell_type": "code",
   "execution_count": null,
   "id": "63414a02-03df-48c6-a36d-be1aee25dd53",
   "metadata": {},
   "outputs": [],
   "source": [
    "def"
   ]
  },
  {
   "cell_type": "markdown",
   "id": "efa9df24-9066-4e0d-9ea9-8fc4d31030c1",
   "metadata": {},
   "source": [
    "1. All values, functions, and classes are objects in Python.\n",
    "2. Keywords like `class` and `def` are not objects, but they are used to create objects.\n",
    "3. **Functions**, **lambdas**, and **built-in methods** are objects and can be assigned to variables.\n",
    "\n",
    "**You may verify and examine the methods of an object using the `dir()` or `isinstance()` function.**"
   ]
  },
  {
   "cell_type": "markdown",
   "id": "d056f393-ab39-4b3a-bdc5-bb1f22db9c57",
   "metadata": {},
   "source": [
    "An **Object** is an instance of a Class. A class is like a blueprint while an instance is a copy of the class with actual values. It’s not an idea anymore, it’s an actual dog, like a dog of breed pug who’s seven years old. You can have many dogs to create many different instances, but without the class as a guide, you would be lost, not knowing what information is required."
   ]
  },
  {
   "cell_type": "markdown",
   "id": "40457408-b05e-475b-b8a7-b2fc6aeb4e11",
   "metadata": {},
   "source": [
    "### **Python Built-in Classes (Data Types)**\n",
    "\n",
    "1. `list`\n",
    "2. `tuple`\n",
    "3. `set`\n",
    "4. `dict`\n",
    "\n",
    "> Notice that there are no `()` by the end of each keyword."
   ]
  },
  {
   "cell_type": "code",
   "execution_count": 13,
   "id": "f4bed386-9be0-41b5-9907-149b81635b05",
   "metadata": {},
   "outputs": [
    {
     "data": {
      "text/plain": [
       "False"
      ]
     },
     "execution_count": 13,
     "metadata": {},
     "output_type": "execute_result"
    }
   ],
   "source": [
    "# the left-side is a class, the right side is an object\n",
    "list == list()"
   ]
  },
  {
   "cell_type": "code",
   "execution_count": 16,
   "id": "9325e7e4-3628-45f4-bf65-ad93084e24d4",
   "metadata": {},
   "outputs": [
    {
     "data": {
      "text/plain": [
       "True"
      ]
     },
     "execution_count": 16,
     "metadata": {},
     "output_type": "execute_result"
    }
   ],
   "source": [
    "# the left side is a class invoked, the right side is technically the same (literal representation).\n",
    "list() == []"
   ]
  },
  {
   "cell_type": "code",
   "execution_count": 17,
   "id": "d9b7a40a-7d3a-4062-957d-5a525d0207e7",
   "metadata": {},
   "outputs": [
    {
     "name": "stdout",
     "output_type": "stream",
     "text": [
      "True\n",
      "True\n",
      "True\n",
      "True\n"
     ]
    }
   ],
   "source": [
    "# a is an instance of the class called list()\n",
    "a = list()\n",
    "\n",
    "# b is an instance of the class called tuple()\n",
    "b = tuple()\n",
    "\n",
    "# c is an instance of the class called set()\n",
    "c = set()\n",
    "\n",
    "# d is an instance of the class called dict()\n",
    "d = dict()\n",
    "\n",
    "print(isinstance(a, list))\n",
    "print(isinstance(b, tuple))\n",
    "print(isinstance(c, set))\n",
    "print(isinstance(d, dict))"
   ]
  },
  {
   "cell_type": "code",
   "execution_count": 21,
   "id": "466be7dd-64eb-48a4-a51c-10d201a96096",
   "metadata": {},
   "outputs": [],
   "source": [
    "# It can also be declared using similar format.\n",
    "# literal representations\n",
    "a = []\n",
    "\n",
    "b = ()\n",
    "\n",
    "c = {1,2,3} \n",
    "\n",
    "d = {}"
   ]
  },
  {
   "cell_type": "markdown",
   "id": "21720759-ae06-424b-abed-c7097ee5132e",
   "metadata": {},
   "source": [
    "### **Form a Group of 5**"
   ]
  },
  {
   "cell_type": "markdown",
   "id": "a6f89414-c585-4b6d-9192-609f97ed8eca",
   "metadata": {},
   "source": [
    "### **Class**\n",
    "\n",
    "In Python, a class is a blueprint for creating objects. It defines properties (attributes) and behaviors (methods) that objects of that class will have. Think of it as a template used to create instances that share similar characteristics and functionalities.\n",
    "\n",
    "Classes can be defined using the `class` keyword.\n",
    "\n",
    "```python\n",
    "class MyClass:\n",
    "    def __init__(self):\n",
    "        pass\n",
    "    \n",
    "    def method(self):\n",
    "        pass\n",
    "```"
   ]
  },
  {
   "cell_type": "markdown",
   "id": "0f6fc43d-d3c1-452f-9c01-539551b844e1",
   "metadata": {},
   "source": [
    "### **Defining a Class**\n",
    "\n",
    "1. You can define a class using the `class` keyword.\n",
    "    - Begin by using the `class` keyword followed by the class name. Class names conventionally start with a capital letter also called as `PascalCase`.\n",
    "\n",
    "    ```python\n",
    "    class MyClass:\n",
    "    ```\n",
    "    \n",
    "2. Define the `__init__` method.\n",
    "    - The `__init__` method is a special method that initializes the object when it is created. It is called a constructor.\n",
    "    - It typically takes self as its first parameter, which refers to the instance of the class.\n",
    "\n",
    "    ```python\n",
    "    class MyClass:\n",
    "        def __init__(self, param1, param2):\n",
    "            self.param1 = param1\n",
    "            self.param2 = param2\n",
    "    ```\n",
    "    \n",
    "3. Add attributes and methods.\n",
    "    - Define `attributes (variables)` and `methods (functions)` within the class. Use the `self` keyword to refer to instance variables and methods.\n",
    "\n",
    "    ```python\n",
    "    class MyClass:\n",
    "        def __init__(self, param1, param2):\n",
    "            self.param1 = param1\n",
    "            self.param2 = param2\n",
    "\n",
    "        def method(self):\n",
    "            print(f\"{self.param1} { self.param2}\")\n",
    "    ```\n",
    "    \n",
    "4. Create an instance of the class.\n",
    "    - Instantiate an object of the class by calling the class name as if it were a function, passing any required parameters.\n",
    "  \n",
    "    ```python\n",
    "    object = MyClass(param1='hello', param2='world!')\n",
    "    ```\n",
    "    \n",
    "5. Access attributes and call methods.\n",
    "    - You can access public attributes by calling its variable name with the instantiated object.\n",
    "  \n",
    "    ```python\n",
    "    print(object.param1)\n",
    "    ```\n",
    "    `[out]: hello`\n",
    "\n",
    "   - You can also call methods or functions defined inside the class just like the attribute.\n",
    "   ```python\n",
    "   object.method()\n",
    "   ```\n",
    "   `[out]: hello world!`\n",
    "   \n",
    "   \n",
    "**Terminologies**\n",
    "\n",
    "- **Attributes `object.param1, object.param2`**\n",
    "    - Variables that store data representing the state of an object.\n",
    "    - Define the characteristics or properties of an object.\n",
    "- **Methods `object.method()`**\n",
    "    - Functions defined within a class that operate on the class's attributes.\n",
    "    - Define the behaviors or actions that objects of the class can perform.\n",
    " \n",
    "\n",
    "In Python, `self` is a convention used as the first parameter in the method definitions of a class. It refers to the instance of the class itself. When you call a method on an object, the object itself is passed as the first parameter to the method. By convention, this parameter is named self, but you could technically name it something else (though it's strongly recommended to stick with the convention)."
   ]
  },
  {
   "cell_type": "markdown",
   "id": "676e8fc5-d908-4904-9455-db24b9deec47",
   "metadata": {},
   "source": [
    "<div class=\"alert alert-block alert-success\">\n",
    "    <b>Exercise:</b> Define a simple class called \"Student.\" In the real world, a student has an ID number, a name, an address, and many other details. However, let's focus on these attributes of a student.\n",
    "    \n",
    "- ID Number\n",
    "- Name\n",
    "\n",
    "</div>"
   ]
  },
  {
   "cell_type": "code",
   "execution_count": null,
   "id": "b264713a-56b5-433b-a4a0-99414050d7aa",
   "metadata": {},
   "outputs": [],
   "source": [
    "# parent class\n",
    "class Student:\n",
    "    def __init__(self, id, name):\n",
    "        \"\"\"\n",
    "        Docstring: This class constructs a simple student instance with basic\n",
    "        details such as the id number and the name.\n",
    "        \"\"\"\n",
    "        self.id = id\n",
    "        self.name = name\n",
    "\n",
    "    def profile(self):\n",
    "        \"\"\"\n",
    "        Returns a dictionary of the id number and the name.\n",
    "        keys: ['id', 'name']\n",
    "        \"\"\"\n",
    "        out = {'id':self.id, 'name':self.name}\n",
    "        return out"
   ]
  },
  {
   "cell_type": "code",
   "execution_count": null,
   "id": "9785b612-4307-4431-9782-a108d1851954",
   "metadata": {},
   "outputs": [],
   "source": [
    "# Now let's create an instance of our `Student` class.\n",
    "\n",
    "brian = Student(id=789520, name='Jhun Brian')\n",
    "brian.id"
   ]
  },
  {
   "cell_type": "code",
   "execution_count": null,
   "id": "d16fc542-490d-476d-9c27-7f32877b755c",
   "metadata": {},
   "outputs": [],
   "source": [
    "brian.name"
   ]
  },
  {
   "cell_type": "code",
   "execution_count": null,
   "id": "ef18b938-bcd6-4e15-98cf-7eec73848dba",
   "metadata": {},
   "outputs": [],
   "source": [
    "brian_details = brian.profile()\n",
    "print(brian_details['id'])\n",
    "print(brian_details['name'])"
   ]
  },
  {
   "cell_type": "markdown",
   "id": "8e1680da-d84f-4576-a284-5dcde4ee483a",
   "metadata": {},
   "source": [
    "<!-- **✨ HUH, NEAT ✨** -->\n",
    "\n",
    "<center><img src=\"https://media.tenor.com/Hyi9fxFJyNkAAAAM/bender-futurama.gif\" width=\"300px\"></center>"
   ]
  },
  {
   "cell_type": "markdown",
   "id": "854a5713-998a-4230-81be-2110f2c08067",
   "metadata": {},
   "source": [
    "### **Fundamental Principles of OOP in Python**\n",
    "\n",
    "- **Inheritance**\n",
    "    - In Python, inheritance allows a class to inherit `attributes` and `methods` from another class.\n",
    "    - The syntax for inheritance in Python uses parentheses after the class name, indicating the base class(es).\n",
    "    - Inherited methods can be overridden in the derived class to provide specific implementations.\n",
    "\n",
    "- **Abstraction**\n",
    "    - Abstraction in Python involves `hiding the complex implementation details` and exposing only the `essential features` of an object.\n",
    "    - Abstract classes can have abstract methods that must be implemented by concrete subclasses."
   ]
  },
  {
   "cell_type": "markdown",
   "id": "2003faf8-a0f0-4fc6-96e7-1336eac77507",
   "metadata": {},
   "source": [
    "**Inheritance**"
   ]
  },
  {
   "cell_type": "code",
   "execution_count": null,
   "id": "8077b6dc-3b7b-4d82-b7bd-ce315dd09e1a",
   "metadata": {},
   "outputs": [],
   "source": [
    "# child class \n",
    "class DSStudent(Student):\n",
    "    def __init__(self, name, id, units, fave_sub):\n",
    "        Student.__init__(self, id=id, name=name)\n",
    "        self.units = units\n",
    "        self.fave_sub = fave_sub\n",
    "\n",
    "    def student_details(self):\n",
    "        dict = self.profile()\n",
    "        dict['units_taken'] = self.units\n",
    "        dict['favorite_subject'] = self.fave_sub\n",
    "        return dict"
   ]
  },
  {
   "cell_type": "code",
   "execution_count": null,
   "id": "4f460870-ee5a-448f-8d96-2122fecc4cf7",
   "metadata": {},
   "outputs": [],
   "source": [
    "ds1 = DSStudent(name='Jhun Brian', id=789520, units=21, fave_sub='DS123')\n",
    "ds1.student_details()"
   ]
  },
  {
   "cell_type": "code",
   "execution_count": null,
   "id": "06420f14-fce6-4b15-a4b3-69384db4d754",
   "metadata": {},
   "outputs": [],
   "source": [
    "ds1.profile()"
   ]
  },
  {
   "cell_type": "markdown",
   "id": "2baac5f6-fd3d-4720-828a-1ed75f0c5252",
   "metadata": {},
   "source": [
    "**Abstraction**"
   ]
  },
  {
   "cell_type": "code",
   "execution_count": null,
   "id": "72089426-0272-4226-9708-1074d56e46c0",
   "metadata": {},
   "outputs": [],
   "source": [
    "class DSStudent(Student):\n",
    "    def __init__(self, name, id, units, fave_sub, contact):\n",
    "        # instantiate parent class\n",
    "        Student.__init__(self, id=id, name=name)\n",
    "\n",
    "        # instatntiate variables\n",
    "        self.units = units\n",
    "        self.fave_sub = fave_sub\n",
    "        self.id = id\n",
    "        self.__contact = contact\n",
    "\n",
    "    def __student_details(self):\n",
    "        dict = self.profile()\n",
    "        dict['units_taken'] = self.units\n",
    "        dict['favorite_subject'] = self.fave_sub\n",
    "        dict['contact_num'] = self.__contact\n",
    "        return dict"
   ]
  },
  {
   "cell_type": "code",
   "execution_count": null,
   "id": "5c4be703-3389-43f8-9569-1c9a1ed4a2c6",
   "metadata": {},
   "outputs": [],
   "source": [
    "ds1 = DSStudent('Brian', 78952, 21, 'DS312', '09051234567')"
   ]
  },
  {
   "cell_type": "code",
   "execution_count": null,
   "id": "7afd9743-b88b-47ac-a1aa-6d002c4d1ad2",
   "metadata": {},
   "outputs": [],
   "source": [
    "# We cannot access the private methods and attributes. Attributes and methods with two underscores `__` before their names are defined as private.\n",
    "ds1.__student_details()"
   ]
  },
  {
   "cell_type": "code",
   "execution_count": null,
   "id": "392bc58d-513f-48a3-945e-474f90d80f92",
   "metadata": {},
   "outputs": [],
   "source": [
    "ds1.__contact"
   ]
  },
  {
   "cell_type": "code",
   "execution_count": null,
   "id": "90d6ae68-500d-4846-95b8-75b43e6211ae",
   "metadata": {},
   "outputs": [],
   "source": [
    "# However, we can still access their functionalities and access through this technique.\n",
    "dir(ds1)"
   ]
  },
  {
   "cell_type": "code",
   "execution_count": null,
   "id": "6787b595-09fe-43cf-a7b9-609490e3ece5",
   "metadata": {},
   "outputs": [],
   "source": [
    "ds1._DSStudent__student_details()"
   ]
  },
  {
   "cell_type": "markdown",
   "id": "9223015c-6f9e-4e9a-a48e-dee5f4796870",
   "metadata": {},
   "source": [
    "The purpose of abstraction in object-oriented programming is to hide the complex implementation details and expose only the essential features of an object. This helps in creating a clean and simplified interface for interacting with objects, promoting modularity and reducing complexity."
   ]
  },
  {
   "cell_type": "markdown",
   "id": "5dc59c96-5e51-4e5f-9873-8c7ef7b35fa7",
   "metadata": {},
   "source": [
    "<div class=\"alert alert-block alert-success\">\n",
    "    <b>Laboratory Activity:</b> Complete the python class below, follow the comments for instructions. <br> <b> <p style=\"color:#0073e6;\">Refrain from using AI tools :></p></b>\n",
    "\n",
    "\n",
    "<br></br>\n",
    "\n",
    "```python\n",
    "class BankAccount:\n",
    "    def __init__(self, account_name, balance=0):\n",
    "        # initialize the variables\n",
    "\n",
    "    def deposit(self, amount):\n",
    "        pass\n",
    "        # think of the conditions that are required\n",
    "        # this method would allow the bank account holder\n",
    "        # to deposit an amount\n",
    "        # the balance must be updated based on the amount\n",
    "        # that was inputted by the user.\n",
    "\n",
    "    def withdraw(self, amount):\n",
    "        pass\n",
    "        # think of the conditions that are required for a\n",
    "        # bank account holder to withdraw. Their account\n",
    "        # must have a balance that is greater or equal to\n",
    "        # the current amount.\n",
    "        # The value of the amount withdrawn must be deducted to\n",
    "        # the current balance value.\n",
    "        # the user cannot withdraw 0 or negative values.\n",
    "\n",
    "    def check_balance(self):\n",
    "        pass\n",
    "        # this method just returns the details of the\n",
    "        # bank account holder like the current balance and the name.\n",
    "```\n",
    "\n",
    "</div>"
   ]
  }
 ],
 "metadata": {
  "kernelspec": {
   "display_name": "Python 3 (ipykernel)",
   "language": "python",
   "name": "python3"
  },
  "language_info": {
   "codemirror_mode": {
    "name": "ipython",
    "version": 3
   },
   "file_extension": ".py",
   "mimetype": "text/x-python",
   "name": "python",
   "nbconvert_exporter": "python",
   "pygments_lexer": "ipython3",
   "version": "3.9.18"
  },
  "widgets": {
   "application/vnd.jupyter.widget-state+json": {
    "state": {},
    "version_major": 2,
    "version_minor": 0
   }
  }
 },
 "nbformat": 4,
 "nbformat_minor": 5
}
