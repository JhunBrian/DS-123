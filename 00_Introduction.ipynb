{
 "cells": [
  {
   "cell_type": "markdown",
   "id": "ff6a8581-eff5-4a6b-811e-779b86daed4c",
   "metadata": {},
   "source": [
    "# Introduction to Data Structures and Algorithm\n",
    "\n",
    "**Instructor:** Jhun Brian M. Andam\n",
    "\n",
    "**Course:** Data Structures and Algorithm\n",
    "\n",
    "**Objectives**\n",
    "\n",
    "- Understand data structure and algorithm concepts.\n",
    "- Understand key programming principles."
   ]
  },
  {
   "cell_type": "markdown",
   "id": "99e5b5bf-0cca-4e9a-9dbd-00b7199f6ebc",
   "metadata": {},
   "source": [
    "### What is Data Structure?\n",
    "\n",
    "Data structures refer to the organization, management, and storage of data in a computer system or program. The term \"data\" refers to the raw facts and figures that are input, processed, and output by a computer system, while \"structure\" refers to the arrangement or format in which these data are organized and stored.\n",
    "\n",
    "In essence, data structures provide a systematic way to organize and manipulate data efficiently, allowing for easy access, modification, and retrieval. They are fundamental components of computer science and programming, essential for optimizing algorithms and improving the performance of software systems."
   ]
  },
  {
   "cell_type": "markdown",
   "id": "45115a08-abd8-4e6d-959a-1e8c965f9f3c",
   "metadata": {},
   "source": [
    "### Why Learn Data Structure?\n",
    "\n",
    "<center><img src=\"https://imageio.forbes.com/blogs-images/tomcoughlin/files/2018/11/Growth-of-Datasphere.jpg?format=jpg&width=1440\" width=\"600\"></center>\n",
    "\n",
    "<!-- It all boils down on our data generation, we can see that we are generating data exponentially, and a forecast by forbes shows that by the year 2025, we'll be having 175 zetabytes of data in our data sphere \n",
    "\n",
    "The term \"datasphere\" has been used to broadly define digital space and information, particularly in relation to information flow, data, and digital platforms. Since the 1980s, the concept started to be used more and more.\n",
    "-->\n",
    "\n",
    "As applications are getting complex and data-rich, there are three common problems that applications face nowadays.\n",
    "\n",
    "- **Data search:**  Consider an inventory of 1 million items of a store. If the application is to search an item, it has to search an item in 1 million items every time slowing down the search. As data grows, the search will become slower.\n",
    "- **Processor speed:** Processor speed although being very high, falls limited if the data grows to billion records.\n",
    "- **Multiple requests:** As thousands of users can search data simultaneously on a web server, even the fast server fails while searching the data.\n",
    "\n",
    "To solve the above-mentioned problems, data structures come to the rescue. \n",
    "\n",
    "Data can be organized in a data structure in such a way that the required data to be searched can be found almost instantly without the need to go through all the items one by one."
   ]
  },
  {
   "cell_type": "markdown",
   "id": "6a544bbf-5ce1-47c3-a721-604ccd854a06",
   "metadata": {},
   "source": [
    "### Applications of Data Structure and Algorithms\n",
    "\n",
    "The **algorithm** is a step-by-step procedure, which defines a set of instructions to be executed in a certain order to get the desired output. Algorithms are generally created independent of underlying languages, i.e. an algorithm can be implemented in more than one programming language.\n",
    "\n",
    "From the data structure point of view, the following are some important categories of algorithms:\n",
    "\n",
    "- Search: Algorithm to search an item in a data structure.\n",
    "\n",
    "- Sort: Algorithm to sort items in a certain order.\n",
    "\n",
    "- Insert: Algorithm to insert an item in a data structure.\n",
    "\n",
    "- Update: Algorithm to update an existing item in a data structure.\n",
    "\n",
    "- Delete: Algorithm to delete an existing item from a data structure."
   ]
  },
  {
   "cell_type": "markdown",
   "id": "518d6ad7-74f1-446e-8cbe-23c8d3083bf0",
   "metadata": {},
   "source": [
    "### Big-O Notation\n",
    "\n",
    "Big O notation is a mathematical notation used in computer science to describe the performance or complexity of an algorithm in terms of the size of the input (often denoted as $n$). It provides an upper bound on the growth rate of an algorithm, allowing you to analyze and compare the efficiency of algorithms.\n",
    "\n",
    "\n",
    "**Key Aspects of Big O Notation:**\n",
    "\n",
    "1. **Growth Rate**: It measures how the runtime or space requirements of an algorithm grow as the input size increases.\n",
    "2. **Worst-Case Analysis**: Big O notation typically focuses on the worst-case scenario, ensuring that the algorithm performs adequately even in the most demanding situations.\n"
   ]
  },
  {
   "cell_type": "markdown",
   "id": "978a4ccf-c052-4455-8cee-3d9be44e2f40",
   "metadata": {},
   "source": [
    "**Common Notations**\n",
    "\n",
    "1. **$O(1)$ - Constant Time**\n",
    "    - The runtime does not depend on the input size.\n",
    "  \n",
    "2. **$O(\\log n)$ - Logarithmic Time**\n",
    "    - The runtime grows logarithmically as the input size increases.\n",
    "\n",
    "3. **$O(n)$ - Linear Time**\n",
    "   - The runtime grows linearly with the input size.\n",
    "\n",
    "4. **$O(n \\log n)$ - Log-Linear Time**\n",
    "   - The runtime grows faster than linear but slower than quadratic.\n",
    "\n",
    "5. **$O(n^2)$ - Quadratic Time**\n",
    "    - The runtime grows proportionally to the square of the input size.\n",
    "\n",
    "6. **$O(2n)$ - Exponential Time**\n",
    "    - The runtime doubles with each additional input element.\n",
    "\n",
    "7. **$O(n!)$ - Factorial Time**\n",
    "    - The runtime grows factorially with the input size.\n",
    "  \n",
    "- https://www.bigocheatsheet.com/"
   ]
  },
  {
   "cell_type": "markdown",
   "id": "642edcc5-8f86-40e4-b403-ace94a3914d3",
   "metadata": {},
   "source": [
    "```python\n",
    "print('Aking Marilag')\n",
    "```"
   ]
  },
  {
   "cell_type": "code",
   "execution_count": 4,
   "id": "9c4c3ad1-b52c-4387-be6a-60ca962c59e9",
   "metadata": {},
   "outputs": [
    {
     "data": {
      "text/plain": [
       "True"
      ]
     },
     "execution_count": 4,
     "metadata": {},
     "output_type": "execute_result"
    }
   ],
   "source": [
    "x = []\n",
    "isinstance(x, list)"
   ]
  },
  {
   "cell_type": "code",
   "execution_count": 11,
   "id": "3d72cb4b-edc6-4eb6-a787-16b2bfbd5f1c",
   "metadata": {},
   "outputs": [],
   "source": [
    "x = [1,2,3,4,5]"
   ]
  },
  {
   "cell_type": "code",
   "execution_count": 12,
   "id": "4684e3f6-cd7d-480b-839a-e9e0d23d7474",
   "metadata": {},
   "outputs": [
    {
     "data": {
      "text/plain": [
       "2.5"
      ]
     },
     "execution_count": 12,
     "metadata": {},
     "output_type": "execute_result"
    }
   ],
   "source": [
    "len(x) / 2"
   ]
  },
  {
   "cell_type": "code",
   "execution_count": 13,
   "id": "bb9b4e38-8d89-4a22-b144-a444ae68199a",
   "metadata": {},
   "outputs": [
    {
     "data": {
      "text/plain": [
       "'need'"
      ]
     },
     "execution_count": 13,
     "metadata": {},
     "output_type": "execute_result"
    }
   ],
   "source": [
    "x = [\"Shawty\", \"you\", \"don't\", \"need\", \"no\", \"makeup\", \"(ah)\"]\n",
    "y = \"Brown-eyed chick northside beauty stand out\"\n",
    "z = 2\n",
    "\n",
    "x[len(x) // 2]"
   ]
  },
  {
   "cell_type": "code",
   "execution_count": 14,
   "id": "fba2d5f1-edc3-4d17-93fd-26f4acae03e9",
   "metadata": {},
   "outputs": [
    {
     "name": "stdout",
     "output_type": "stream",
     "text": [
      "no in index 4\n"
     ]
    }
   ],
   "source": [
    "x = [\"Shawty\", \"you\", \"don't\", \"need\", \"no\", \"makeup\", \"(ah)\"]\n",
    "s = \"no\"\n",
    "\n",
    "for idx, e in enumerate(x):\n",
    "    if e == s:\n",
    "        print(e, \"in index\", idx)"
   ]
  },
  {
   "cell_type": "code",
   "execution_count": null,
   "id": "2e1199e8-dffc-497f-b482-4afcd3d9a46c",
   "metadata": {},
   "outputs": [],
   "source": []
  }
 ],
 "metadata": {
  "kernelspec": {
   "display_name": "Python 3 (ipykernel)",
   "language": "python",
   "name": "python3"
  },
  "language_info": {
   "codemirror_mode": {
    "name": "ipython",
    "version": 3
   },
   "file_extension": ".py",
   "mimetype": "text/x-python",
   "name": "python",
   "nbconvert_exporter": "python",
   "pygments_lexer": "ipython3",
   "version": "3.9.18"
  },
  "widgets": {
   "application/vnd.jupyter.widget-state+json": {
    "state": {},
    "version_major": 2,
    "version_minor": 0
   }
  }
 },
 "nbformat": 4,
 "nbformat_minor": 5
}
