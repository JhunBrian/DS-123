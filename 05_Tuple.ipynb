{
 "cells": [
  {
   "cell_type": "markdown",
   "id": "f8f52dd8-42f8-4cdb-8680-3d52b7329c37",
   "metadata": {},
   "source": [
    "# **Python Tuple**\n",
    "\n",
    "**Instructor:** Jhun Brian M. Andam\n",
    "\n",
    "**Course:** Data Structures and Algorithm\n",
    "\n",
    "**Objectives**\n",
    "\n",
    "- Learn how to create tuples\n",
    "- Explore common operations for sequence\n",
    "- Invoke tuple methods."
   ]
  },
  {
   "cell_type": "markdown",
   "id": "3a437644-c6c8-400b-ba92-09913b794473",
   "metadata": {},
   "source": [
    "Python tuples are a type of data structure that is very similar to `lists`. The main difference between the two is that tuples are `immutable`, meaning they cannot be changed once they are created. This makes them ideal for storing data that should not be modified, such as database records.\n",
    "\n",
    "A tuple can have any number of items, which may be of different types, such as a `string`, `integer`, `float`, `list`, etc. Let's explore ways to create and use a tuple to make our programming tasks easier."
   ]
  },
  {
   "cell_type": "markdown",
   "id": "c67a105c-b9ce-4b73-8b50-f62d15214b1f",
   "metadata": {},
   "source": [
    "Tuples can be created in a number of ways. The most common way is to wrap them in parentheses. Both single and multiple tuples must always be followed by a comma, like so:"
   ]
  },
  {
   "cell_type": "code",
   "execution_count": 1,
   "id": "1b913365-6e59-453d-b9a4-4c56d0111ff6",
   "metadata": {},
   "outputs": [
    {
     "data": {
      "text/plain": [
       "True"
      ]
     },
     "execution_count": 1,
     "metadata": {},
     "output_type": "execute_result"
    }
   ],
   "source": [
    "t1 = (\"I'm\", 'so', 'kwan', 123)\n",
    "\n",
    "t2 = tuple([\"I'm\", 'so', 'kwan', 123])\n",
    "\n",
    "t3 = \"I'm\", 'so', 'kwan', 123\n",
    "\n",
    "type(t1) == type(t2) == type(t3)"
   ]
  },
  {
   "cell_type": "markdown",
   "id": "29fe7441-0a96-4283-a600-1bf1c843b2b0",
   "metadata": {},
   "source": [
    "### **Types of Tuple**\n",
    "\n",
    "- Named Tuples\n",
    "- Unnamed Tuples\n",
    "\n",
    "**Named Tuples** in Python are an extension of regular tuples that allow for accessing elements by name instead of index. This feature enhances code readability and efficiency."
   ]
  },
  {
   "cell_type": "code",
   "execution_count": 2,
   "id": "d9c6a64e-eaaf-47e2-a807-798393ee4c0a",
   "metadata": {},
   "outputs": [],
   "source": [
    "from collections import namedtuple"
   ]
  },
  {
   "cell_type": "code",
   "execution_count": 3,
   "id": "ee1a2dd9-b83a-4bb1-9875-ae8d7e6aa29d",
   "metadata": {},
   "outputs": [
    {
     "data": {
      "text/plain": [
       "True"
      ]
     },
     "execution_count": 3,
     "metadata": {},
     "output_type": "execute_result"
    }
   ],
   "source": [
    "TupleClass = namedtuple(\"TupleClass\", [\"age\", \"school\", \"campus\"]) # class\n",
    "issubclass(TupleClass, tuple)"
   ]
  },
  {
   "cell_type": "code",
   "execution_count": 4,
   "id": "69003dec-df78-4332-8df8-02825d5c6dc8",
   "metadata": {},
   "outputs": [],
   "source": [
    "tp_instance = TupleClass(18, \"USTP\", \"CDO\") # instance 1 / object\n",
    "t2 = TupleClass(19, \"USTP\", 'Jasaan') # instance 2 / object"
   ]
  },
  {
   "cell_type": "code",
   "execution_count": 5,
   "id": "0b68c659-0b00-4b8e-bd7f-1631314dc78c",
   "metadata": {},
   "outputs": [
    {
     "data": {
      "text/plain": [
       "19"
      ]
     },
     "execution_count": 5,
     "metadata": {},
     "output_type": "execute_result"
    }
   ],
   "source": [
    "t2.age"
   ]
  },
  {
   "cell_type": "code",
   "execution_count": 6,
   "id": "d5fa52e4-e040-4a04-8b40-11f08fe90f40",
   "metadata": {},
   "outputs": [
    {
     "data": {
      "text/plain": [
       "'USTP'"
      ]
     },
     "execution_count": 6,
     "metadata": {},
     "output_type": "execute_result"
    }
   ],
   "source": [
    "t2.school"
   ]
  },
  {
   "cell_type": "code",
   "execution_count": 7,
   "id": "0a3a89b7-cccc-4959-a691-13e4875f0ce8",
   "metadata": {},
   "outputs": [
    {
     "data": {
      "text/plain": [
       "'CDO'"
      ]
     },
     "execution_count": 7,
     "metadata": {},
     "output_type": "execute_result"
    }
   ],
   "source": [
    "tp_instance.campus"
   ]
  },
  {
   "cell_type": "code",
   "execution_count": 8,
   "id": "cc5f3460-f1de-4227-9cc5-afe7c0bdc521",
   "metadata": {},
   "outputs": [
    {
     "data": {
      "text/plain": [
       "18"
      ]
     },
     "execution_count": 8,
     "metadata": {},
     "output_type": "execute_result"
    }
   ],
   "source": [
    "tp_instance[0]"
   ]
  },
  {
   "cell_type": "code",
   "execution_count": 9,
   "id": "edf093d4-83a8-461e-b3aa-f6ad94b2b205",
   "metadata": {},
   "outputs": [
    {
     "data": {
      "text/plain": [
       "'USTP'"
      ]
     },
     "execution_count": 9,
     "metadata": {},
     "output_type": "execute_result"
    }
   ],
   "source": [
    "tp_instance[1]"
   ]
  },
  {
   "cell_type": "code",
   "execution_count": 10,
   "id": "bfe2ba77-e6f1-41bd-bde6-61be62ef16a2",
   "metadata": {},
   "outputs": [
    {
     "data": {
      "text/plain": [
       "'CDO'"
      ]
     },
     "execution_count": 10,
     "metadata": {},
     "output_type": "execute_result"
    }
   ],
   "source": [
    "tp_instance[2]"
   ]
  },
  {
   "cell_type": "markdown",
   "id": "76d7f773-026f-4480-942f-bc78ce21f53f",
   "metadata": {},
   "source": [
    "As you can see, named tuples provide a more descriptive way to access elements, which can improve code readability and reduce the likelihood of errors when dealing with tuples containing multiple fields. They offer a balance between the simplicity of regular tuples and the clarity of custom classes.\n",
    "\n",
    "**Unnamed Tuples** are the more common type of tuple, and are simply created by separating values with commas. These tuples are often used for storing data that does not need to be named. Basically the typical tuples."
   ]
  },
  {
   "cell_type": "markdown",
   "id": "6b7e9e4b-2b97-4439-9a98-99754d5bc9db",
   "metadata": {},
   "source": [
    "### **Tuple Operations and Methods**"
   ]
  },
  {
   "cell_type": "code",
   "execution_count": 11,
   "id": "70109d93-dedc-4048-ad55-8a362908345e",
   "metadata": {},
   "outputs": [],
   "source": [
    "# unnamed tuple\n",
    "record_ut = (\"Brian\", \"CDO\", \"Data Science\", 123456789)\n",
    "\n",
    "# named tuple\n",
    "Student = namedtuple(\"Student\", [\"name\", \"campus\", \"department\", \"id\"])\n",
    "record_nt = Student(\"Brian\", \"CDO\", \"Data Science\", 123456789)"
   ]
  },
  {
   "cell_type": "code",
   "execution_count": 12,
   "id": "3cc2794d-e92f-467a-bc22-f4eb72b39373",
   "metadata": {},
   "outputs": [
    {
     "name": "stdout",
     "output_type": "stream",
     "text": [
      "['__add__', '__class__', '__class_getitem__', '__contains__', '__delattr__', '__dir__', '__doc__', '__eq__', '__format__', '__ge__', '__getattribute__', '__getitem__', '__getnewargs__', '__gt__', '__hash__', '__init__', '__init_subclass__', '__iter__', '__le__', '__len__', '__lt__', '__mul__', '__ne__', '__new__', '__reduce__', '__reduce_ex__', '__repr__', '__rmul__', '__setattr__', '__sizeof__', '__str__', '__subclasshook__', 'count', 'index']\n",
      "\n",
      "\n",
      "['__add__', '__class__', '__class_getitem__', '__contains__', '__delattr__', '__dir__', '__doc__', '__eq__', '__format__', '__ge__', '__getattribute__', '__getitem__', '__getnewargs__', '__gt__', '__hash__', '__init__', '__init_subclass__', '__iter__', '__le__', '__len__', '__lt__', '__module__', '__mul__', '__ne__', '__new__', '__reduce__', '__reduce_ex__', '__repr__', '__rmul__', '__setattr__', '__sizeof__', '__slots__', '__str__', '__subclasshook__', '_asdict', '_field_defaults', '_fields', '_make', '_replace', 'campus', 'count', 'department', 'id', 'index', 'name']\n"
     ]
    }
   ],
   "source": [
    "print(dir(record_ut))\n",
    "\n",
    "print(\"\\n\")\n",
    "\n",
    "print(dir(record_nt))"
   ]
  },
  {
   "cell_type": "code",
   "execution_count": 13,
   "id": "a6239c3f-dfe3-4ffe-bea7-31c3f479533a",
   "metadata": {},
   "outputs": [
    {
     "data": {
      "text/plain": [
       "1"
      ]
     },
     "execution_count": 13,
     "metadata": {},
     "output_type": "execute_result"
    }
   ],
   "source": [
    "# tuple.count(object)\n",
    "\n",
    "record_ut.count(\"Data Science\")"
   ]
  },
  {
   "cell_type": "code",
   "execution_count": 14,
   "id": "20e15fe8-f64f-483d-87ef-6ce8fde80867",
   "metadata": {},
   "outputs": [
    {
     "data": {
      "text/plain": [
       "1"
      ]
     },
     "execution_count": 14,
     "metadata": {},
     "output_type": "execute_result"
    }
   ],
   "source": [
    "# tuple.index(object)\n",
    "\n",
    "record_nt.count(\"Data Science\")"
   ]
  },
  {
   "cell_type": "code",
   "execution_count": 15,
   "id": "d6004f01-59d6-4482-bb5c-edc04130fffb",
   "metadata": {},
   "outputs": [
    {
     "data": {
      "text/plain": [
       "2"
      ]
     },
     "execution_count": 15,
     "metadata": {},
     "output_type": "execute_result"
    }
   ],
   "source": [
    "record_ut.index(\"Data Science\")"
   ]
  },
  {
   "cell_type": "code",
   "execution_count": 16,
   "id": "aa9a1f74-f985-4f11-9389-66cb7126c389",
   "metadata": {},
   "outputs": [
    {
     "data": {
      "text/plain": [
       "2"
      ]
     },
     "execution_count": 16,
     "metadata": {},
     "output_type": "execute_result"
    }
   ],
   "source": [
    "record_nt.index(\"Data Science\")"
   ]
  },
  {
   "cell_type": "code",
   "execution_count": 17,
   "id": "88f56b15-7625-4391-8201-bad91dac15dc",
   "metadata": {},
   "outputs": [
    {
     "data": {
      "text/plain": [
       "'Brian'"
      ]
     },
     "execution_count": 17,
     "metadata": {},
     "output_type": "execute_result"
    }
   ],
   "source": [
    "record_nt.name"
   ]
  },
  {
   "cell_type": "code",
   "execution_count": 18,
   "id": "4964d255-72c0-4880-b740-7093719d44da",
   "metadata": {},
   "outputs": [
    {
     "data": {
      "text/plain": [
       "'CDO'"
      ]
     },
     "execution_count": 18,
     "metadata": {},
     "output_type": "execute_result"
    }
   ],
   "source": [
    "record_nt.campus"
   ]
  },
  {
   "cell_type": "code",
   "execution_count": 19,
   "id": "495ac5ae-f5cd-4978-81c2-5652e10b776f",
   "metadata": {},
   "outputs": [
    {
     "data": {
      "text/plain": [
       "123456789"
      ]
     },
     "execution_count": 19,
     "metadata": {},
     "output_type": "execute_result"
    }
   ],
   "source": [
    "record_nt.id"
   ]
  },
  {
   "cell_type": "markdown",
   "id": "43e6f7c9-a727-40ff-9ad3-8a508dd00ffd",
   "metadata": {},
   "source": [
    "#### **Traversing a Collection Structure**"
   ]
  },
  {
   "cell_type": "code",
   "execution_count": 20,
   "id": "401a1f53-6ca0-4fac-bb7e-ed4375daee79",
   "metadata": {},
   "outputs": [],
   "source": [
    "s = \"pneumonoultramicroscopicsilicovolcanoconiosis\" # string\n",
    "\n",
    "a = [1,2,3,4,5] # list\n",
    "\n",
    "b = [\n",
    "    [2,3,5], \n",
    "    [7, 11, 13], \n",
    "    [17, 19, 23]\n",
    "] # ndim list\n",
    "\n",
    "record_ut = (\"Brian\", \"CDO\", \"Data Science\", 123456789) # unnamed tuple\n",
    "record_nt = Student(\"Brian\", \"CDO\", \"Data Science\", 123456789) # named tuple"
   ]
  },
  {
   "cell_type": "code",
   "execution_count": 21,
   "id": "6751f30e-78cb-44cc-ab63-12f64a47c5d9",
   "metadata": {},
   "outputs": [
    {
     "name": "stdout",
     "output_type": "stream",
     "text": [
      "18\n",
      "24\n",
      "42\n",
      "44\n"
     ]
    }
   ],
   "source": [
    "for idx, char in enumerate(s):\n",
    "    if char == 's':\n",
    "        print(idx)"
   ]
  },
  {
   "cell_type": "code",
   "execution_count": 22,
   "id": "ac1313a2-6b53-4868-a521-6adeb1257026",
   "metadata": {},
   "outputs": [
    {
     "name": "stdout",
     "output_type": "stream",
     "text": [
      "18\n",
      "24\n",
      "42\n",
      "44\n"
     ]
    }
   ],
   "source": [
    "i = 0 # initialization\n",
    "while i < len(s): # condition\n",
    "    if s[i] == 's':\n",
    "        print(i)\n",
    "    i += 1 # update"
   ]
  },
  {
   "cell_type": "code",
   "execution_count": 23,
   "id": "a6d5d79d-221a-4202-8453-8339b3973452",
   "metadata": {},
   "outputs": [
    {
     "name": "stdout",
     "output_type": "stream",
     "text": [
      "2\n",
      "3\n",
      "5\n",
      "7\n",
      "11\n",
      "13\n",
      "17\n",
      "19\n",
      "23\n"
     ]
    }
   ],
   "source": [
    "for row in b:\n",
    "    for e in row:\n",
    "        print(e)"
   ]
  },
  {
   "cell_type": "code",
   "execution_count": 24,
   "id": "e1335dfc-5448-4e63-9804-e7b3933da329",
   "metadata": {},
   "outputs": [
    {
     "name": "stdout",
     "output_type": "stream",
     "text": [
      "2\n",
      "3\n",
      "5\n",
      "7\n",
      "11\n",
      "13\n",
      "17\n",
      "19\n",
      "23\n"
     ]
    }
   ],
   "source": [
    "for row in range(len(b)):\n",
    "    for col in range(len(b)):\n",
    "        print(b[row][col])"
   ]
  }
 ],
 "metadata": {
  "kernelspec": {
   "display_name": "Python 3 (ipykernel)",
   "language": "python",
   "name": "python3"
  },
  "language_info": {
   "codemirror_mode": {
    "name": "ipython",
    "version": 3
   },
   "file_extension": ".py",
   "mimetype": "text/x-python",
   "name": "python",
   "nbconvert_exporter": "python",
   "pygments_lexer": "ipython3",
   "version": "3.9.18"
  },
  "widgets": {
   "application/vnd.jupyter.widget-state+json": {
    "state": {},
    "version_major": 2,
    "version_minor": 0
   }
  }
 },
 "nbformat": 4,
 "nbformat_minor": 5
}
