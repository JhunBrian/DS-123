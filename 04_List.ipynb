{
 "cells": [
  {
   "cell_type": "markdown",
   "id": "5ea65249-c571-4612-b7ac-44d6a518400e",
   "metadata": {},
   "source": [
    "# **Python List**\n",
    "\n",
    "**Instructor:** Jhun Brian M. Andam\n",
    "\n",
    "**Course:** Data Structures and Algorithm\n",
    "\n",
    "**Objectives**\n",
    "\n",
    "- Learn how to create lists\n",
    "- Explore common operations for sequence\n",
    "- Invoke list methods."
   ]
  },
  {
   "cell_type": "markdown",
   "id": "72c14b27-1b0c-442b-b9aa-cb1c4fb92155",
   "metadata": {},
   "source": [
    "A list is a **built-in** data structure used to store a collection of items in a single variable. Lists are created using square brackets and can contain any number of items, including other lists. List items are ordered, changeable, and allow duplicate values. Lists are one of the four built-in data types in Python, along with tuples, sets, and dictionaries. Lists are mutable, meaning they can be altered after creation. Common list operations include adding and removing items, accessing items by index, and iterating over the list.\n",
    "\n",
    "Lists are the simplest containers that are an integral part of the Python language. Lists need not be **homogeneous** always which makes it the most powerful tool in Python. A single list may contain DataTypes like Integers, Strings, as well as Objects. Lists are **mutable**, and hence, they can be altered even after their creation.\n",
    "\n",
    "- **Homogeneous** - of the same kind\n",
    "- **Mutable** - changeable\n",
    "\n",
    "```python\n",
    "lista = [0, 1, 2, 3, 5]\n",
    "```"
   ]
  },
  {
   "cell_type": "markdown",
   "id": "3ef89baa-5cf4-4492-8ba5-17ce92e9cd3e",
   "metadata": {},
   "source": [
    "<center><img src=\"https://i.pinimg.com/1200x/65/d3/33/65d33376a75509a09641ff987fff5770.jpg\" width=\"300px\"></center>"
   ]
  },
  {
   "cell_type": "code",
   "execution_count": null,
   "id": "c88a0e0f-7489-4ea7-aa45-5c334719250d",
   "metadata": {},
   "outputs": [],
   "source": [
    "# declare a list\n",
    "\n",
    "x = [0, 1, 2, 3, 4, 5, 6]"
   ]
  },
  {
   "cell_type": "code",
   "execution_count": null,
   "id": "4b8e239e-6e57-49c1-b18d-f272c8d0aa72",
   "metadata": {},
   "outputs": [],
   "source": [
    "print(dir(x))"
   ]
  },
  {
   "cell_type": "markdown",
   "id": "62a7c585-b0fc-4c1f-bd4a-cf6d3ce6be75",
   "metadata": {},
   "source": [
    "**List Methods**\n",
    "\n",
    "`obj.method()`"
   ]
  },
  {
   "cell_type": "code",
   "execution_count": null,
   "id": "ef99ed76-186b-493d-aa10-6977952ad6b7",
   "metadata": {},
   "outputs": [],
   "source": [
    "# .append(obj)\n",
    "# Append object to the end of the list.\n",
    "\n",
    "x.append(7)\n",
    "print(x)"
   ]
  },
  {
   "cell_type": "code",
   "execution_count": null,
   "id": "6b8b1c7d-2cb9-4987-80a0-e4a07dee157d",
   "metadata": {},
   "outputs": [],
   "source": [
    "# .insert(idx, obj)\n",
    "# Insert object before index.\n",
    "\n",
    "x.insert(-1, 8)\n",
    "print(x)"
   ]
  },
  {
   "cell_type": "code",
   "execution_count": null,
   "id": "8c60d1da-6e1c-421e-9f33-588185a5eeb6",
   "metadata": {},
   "outputs": [],
   "source": [
    "# .pop(idx=-1)\n",
    "# Remove and return item at index (default last).\n",
    "\n",
    "last = x.pop()\n",
    "print(x)\n",
    "print(last)"
   ]
  },
  {
   "cell_type": "code",
   "execution_count": null,
   "id": "04a8b293-7b72-4eaa-8219-10d4869e80b8",
   "metadata": {},
   "outputs": [],
   "source": [
    "# .remove(obj)\n",
    "# Raises ValueError if the value is not present.\n",
    "\n",
    "x.remove(8)\n",
    "print(x)"
   ]
  },
  {
   "cell_type": "code",
   "execution_count": null,
   "id": "abae3c92-972d-4632-a0fe-fbc4a8bb5b0a",
   "metadata": {},
   "outputs": [],
   "source": [
    "# .reverse()\n",
    "# Reverse *IN PLACE*.\n",
    "\n",
    "x.reverse()\n",
    "print(x)"
   ]
  },
  {
   "cell_type": "code",
   "execution_count": null,
   "id": "741648ef-4e9f-4099-81a1-15e40dc5c3f1",
   "metadata": {},
   "outputs": [],
   "source": [
    "# .sort(key=None, reverse=False)\n",
    "# Sort the list in ascending order and return None.\n",
    "\n",
    "x.sort(reverse=False)\n",
    "print(x)"
   ]
  },
  {
   "cell_type": "code",
   "execution_count": null,
   "id": "c7847a7c-ccc7-4d33-b7f8-383b6ded3878",
   "metadata": {},
   "outputs": [],
   "source": [
    "# .index(value, start=0, stop=9223372036854775807)\n",
    "# Return first index of value.\n",
    "\n",
    "x.index(2)"
   ]
  },
  {
   "cell_type": "code",
   "execution_count": null,
   "id": "70bebda9-167f-448c-af0c-e194d9d684ec",
   "metadata": {},
   "outputs": [],
   "source": [
    "# .count(obj)\n",
    "# Return number of occurrences of value.\n",
    "\n",
    "x.count(4)"
   ]
  },
  {
   "cell_type": "markdown",
   "id": "35a1dbe1-8ef4-41c1-9439-9bdce2c109d7",
   "metadata": {},
   "source": [
    "<center><img src=\"https://media.makeameme.org/created/easy-peasy-lemon-035b4231c4.jpg\" width=\"300px\"></center>"
   ]
  },
  {
   "cell_type": "markdown",
   "id": "2aca39cc-a4c7-4334-bedc-e8f4bfde6bf8",
   "metadata": {},
   "source": [
    "### **Common Operations with List**"
   ]
  },
  {
   "cell_type": "markdown",
   "id": "7b5c6b9f-27c3-42a1-8da8-091e6c16c0c5",
   "metadata": {},
   "source": [
    "#### **Accessing Elements**"
   ]
  },
  {
   "cell_type": "code",
   "execution_count": 1,
   "id": "569e6a49-40da-49c1-b775-9db509dc4f0a",
   "metadata": {},
   "outputs": [],
   "source": [
    "a = [1,2,3,4,5]\n",
    "\n",
    "b = [\n",
    "    [2,3,5], \n",
    "    [7, 11, 13], \n",
    "    [17, 19, 23]\n",
    "]"
   ]
  },
  {
   "cell_type": "code",
   "execution_count": 2,
   "id": "422cce1c-6c62-4841-8912-ce69b3977d2d",
   "metadata": {},
   "outputs": [
    {
     "name": "stdout",
     "output_type": "stream",
     "text": [
      "1\n",
      "[2, 3, 5]\n"
     ]
    }
   ],
   "source": [
    "# access first element\n",
    "print(a[0])\n",
    "print(b[0])"
   ]
  },
  {
   "cell_type": "code",
   "execution_count": 3,
   "id": "12b4637f-4318-4b37-9883-5fb19f69fd31",
   "metadata": {},
   "outputs": [
    {
     "name": "stdout",
     "output_type": "stream",
     "text": [
      "5\n",
      "[17, 19, 23]\n"
     ]
    }
   ],
   "source": [
    "# access last element\n",
    "print(a[-1])\n",
    "print(b[-1])"
   ]
  },
  {
   "cell_type": "code",
   "execution_count": 5,
   "id": "87f2929d-3e81-42f0-b710-839bf9edc26c",
   "metadata": {},
   "outputs": [
    {
     "data": {
      "text/plain": [
       "23"
      ]
     },
     "execution_count": 5,
     "metadata": {},
     "output_type": "execute_result"
    }
   ],
   "source": [
    "b[-1][-1]"
   ]
  },
  {
   "cell_type": "code",
   "execution_count": 7,
   "id": "e61be3b2-4490-42fa-a1c0-5d1ead60e5bc",
   "metadata": {},
   "outputs": [
    {
     "data": {
      "text/plain": [
       "3"
      ]
     },
     "execution_count": 7,
     "metadata": {},
     "output_type": "execute_result"
    }
   ],
   "source": [
    "b[0][1]"
   ]
  },
  {
   "cell_type": "markdown",
   "id": "542380a5-428d-46a6-ad5b-5b947f2375c0",
   "metadata": {},
   "source": [
    "**Slicing**\n",
    "\n",
    "```python\n",
    "list[start:stop:step]\n",
    "```\n",
    "\n",
    "- `start:` The starting index (default is 0).\n",
    "- `stop:` The stopping index (default is None or until end of the sequence).\n",
    "- `step:` The step size (default is 1). A negative step moves backward."
   ]
  },
  {
   "cell_type": "code",
   "execution_count": 9,
   "id": "cd7846dd-c2a7-4d54-8510-d48df58ec5cb",
   "metadata": {},
   "outputs": [
    {
     "name": "stdout",
     "output_type": "stream",
     "text": [
      "There are  44  indices\n"
     ]
    }
   ],
   "source": [
    "s = \"pneumonoultramicroscopicsilicovolcanoconiosis\"\n",
    "\n",
    "print(\"There are \", len(s) - 1, \" indices\")"
   ]
  },
  {
   "cell_type": "markdown",
   "id": "ff57a372-d177-4aff-85a2-5809f33e0594",
   "metadata": {},
   "source": [
    "`s[start:stop:step]`"
   ]
  },
  {
   "cell_type": "code",
   "execution_count": 10,
   "id": "e1bc5ab0-deab-4b52-998b-75708103da04",
   "metadata": {},
   "outputs": [
    {
     "data": {
      "text/plain": [
       "'pneumono'"
      ]
     },
     "execution_count": 10,
     "metadata": {},
     "output_type": "execute_result"
    }
   ],
   "source": [
    "# first index until the 8th index by 1\n",
    "s[0:8:1]"
   ]
  },
  {
   "cell_type": "markdown",
   "id": "056915c1-a920-4c1b-a4a0-7261320fe854",
   "metadata": {},
   "source": [
    "`s[start::step]`"
   ]
  },
  {
   "cell_type": "code",
   "execution_count": 11,
   "id": "8e5a931b-c847-417a-9c83-5817cd647598",
   "metadata": {},
   "outputs": [
    {
     "data": {
      "text/plain": [
       "'pemnutairsoislcvlaooiss'"
      ]
     },
     "execution_count": 11,
     "metadata": {},
     "output_type": "execute_result"
    }
   ],
   "source": [
    "# Selects elements starting at index 0 with a step of 2 (every other element)\n",
    "s[0::2]"
   ]
  },
  {
   "cell_type": "markdown",
   "id": "3ea745ef-343a-42b3-85bf-2c7e9cbf31c7",
   "metadata": {},
   "source": [
    "`s[start::]`"
   ]
  },
  {
   "cell_type": "code",
   "execution_count": 12,
   "id": "eab6bb10-fef5-4e61-bdea-80e7b3fc7a93",
   "metadata": {},
   "outputs": [
    {
     "data": {
      "text/plain": [
       "'volcanoconiosis'"
      ]
     },
     "execution_count": 12,
     "metadata": {},
     "output_type": "execute_result"
    }
   ],
   "source": [
    "# starts at 30th element until the last\n",
    "s[30:]"
   ]
  },
  {
   "cell_type": "markdown",
   "id": "d6141e55-4dbb-40dc-8eba-b329534745a3",
   "metadata": {},
   "source": [
    "`s[::step]`"
   ]
  },
  {
   "cell_type": "code",
   "execution_count": 13,
   "id": "660d85c5-dd0a-42ca-8d88-d8ed65f4dbc7",
   "metadata": {},
   "outputs": [
    {
     "data": {
      "text/plain": [
       "'pemnutairsoislcvlaooiss'"
      ]
     },
     "execution_count": 13,
     "metadata": {},
     "output_type": "execute_result"
    }
   ],
   "source": [
    "# no start (default 0), no stop (default None), step of 2\n",
    "s[::2]"
   ]
  },
  {
   "cell_type": "code",
   "execution_count": 17,
   "id": "ead46c73-3fe8-4f9a-9eaa-2fac80106641",
   "metadata": {},
   "outputs": [
    {
     "data": {
      "text/plain": [
       "'sisoinoconaclovociliscipocsorcimartluonomuenp'"
      ]
     },
     "execution_count": 17,
     "metadata": {},
     "output_type": "execute_result"
    }
   ],
   "source": [
    "# you can reverse a sequence by using negative index\n",
    "s[::-1]"
   ]
  },
  {
   "cell_type": "markdown",
   "id": "6a56c614-f971-4bf4-9180-9794c90850ca",
   "metadata": {},
   "source": [
    "`s[:stop:]`"
   ]
  },
  {
   "cell_type": "code",
   "execution_count": 18,
   "id": "13573b54-0893-480a-9991-ceb2c2c0cefb",
   "metadata": {},
   "outputs": [
    {
     "data": {
      "text/plain": [
       "'pneumono'"
      ]
     },
     "execution_count": 18,
     "metadata": {},
     "output_type": "execute_result"
    }
   ],
   "source": [
    "# starts at 0th index (default), stops at 30th index, steps by 1 index (default)\n",
    "s[:8:]"
   ]
  },
  {
   "cell_type": "markdown",
   "id": "1ce7b944-8d84-4ad6-9235-f47b5fd080fa",
   "metadata": {},
   "source": [
    "`s[::]`"
   ]
  },
  {
   "cell_type": "code",
   "execution_count": 19,
   "id": "3333a1c1-85d7-40f1-ab1c-3074b37960c5",
   "metadata": {},
   "outputs": [
    {
     "data": {
      "text/plain": [
       "'pneumonoultramicroscopicsilicovolcanoconiosis'"
      ]
     },
     "execution_count": 19,
     "metadata": {},
     "output_type": "execute_result"
    }
   ],
   "source": [
    "# starts at index 0 (default), stops at last index (default), steps by 1 index (default)\n",
    "s[::]"
   ]
  },
  {
   "cell_type": "markdown",
   "id": "e5d465c2-9852-4378-bc19-722fd07cf1ef",
   "metadata": {},
   "source": [
    "**Therefore**\n",
    "\n",
    "given `s` as our string, the following expressions are `True`:\n",
    "\n",
    "```python\n",
    "\n",
    "s[::] == s          # A full slice returns the entire sequence\n",
    "s[0:8:1] == s[:8]   # Omitting start (0) and step (1) doesn’t change the result\n",
    "s[:8:] == s[:8]     # Omitting the step (when it's 1) does not change the result\n",
    "s[0::] == s[:]      # Omitting stop (None) means \"go until the end\"\n",
    "s[0:len(s):] == s   # Slicing up to len(s) retrieves the full sequence\n",
    "s[:len(s):] == s    # Omitting start (0) still retrieves the full sequence\n",
    "\n",
    "```\n",
    "\n",
    "<center><img src=\"https://encrypted-tbn0.gstatic.com/images?q=tbn:ANd9GcRGUGZsA5V6SmNCD251E5nZIj-Xs4EgtqZoGw&s\"></center>"
   ]
  },
  {
   "cell_type": "markdown",
   "id": "b5f3a4c9-2cff-4a1a-bd75-d80cd6d4db2d",
   "metadata": {},
   "source": [
    "## **Exercise (By Group)**  \n",
    "\n",
    "This activity will be done in four groups.  "
   ]
  },
  {
   "cell_type": "code",
   "execution_count": null,
   "id": "4f1599d7-487b-4550-b489-9752aad28ef4",
   "metadata": {},
   "outputs": [],
   "source": [
    "import random\n",
    "import pandas as pd\n",
    "\n",
    "def grouper(names, n):\n",
    "    if n <= 0:\n",
    "        raise ValueError(\"Number of groups must be at least 1\")\n",
    "    \n",
    "    groups = {i: [] for i in range(1, n + 1)}\n",
    "    random.shuffle(names)\n",
    "    \n",
    "    for index, name in enumerate(names):\n",
    "        group_number = (index % n) + 1\n",
    "        groups[group_number].append(name)\n",
    "    \n",
    "    return groups"
   ]
  },
  {
   "cell_type": "code",
   "execution_count": null,
   "id": "94f77827-399b-42d4-a0cd-b9d5796fd0ad",
   "metadata": {},
   "outputs": [],
   "source": [
    "df = pd.read_excel('data/names.xlsx', sheet_name='1b')\n",
    "names = df['names'].dropna().tolist()"
   ]
  },
  {
   "cell_type": "markdown",
   "id": "c1196a03-0014-4ab1-afd0-4caf923ed31b",
   "metadata": {},
   "source": [
    "## **Mechanics**"
   ]
  },
  {
   "cell_type": "markdown",
   "id": "5c767aa7-04d3-4324-a623-5765e8346061",
   "metadata": {},
   "source": [
    "#### **Code Relay Mechanics:**  \n",
    "- Each group must stay in a designated aisle in the laboratory and form a straight line.  \n",
    "- A problem set will be given for each round.  \n",
    "- One member at a time will go to the assigned PC, examine the code, and make necessary fixes.  \n",
    "- The next member continues where the previous one left off until all members have contributed.  \n",
    "- The cycle continues until the code is completed or time runs out.  \n",
    "- A timer will be set for each item.  \n",
    "- There are three difficulty levels: **Easy, Medium, and Hard**, with harder problems earning more points.  "
   ]
  },
  {
   "cell_type": "markdown",
   "id": "30535c72-0681-4a37-8af9-ec8403443f54",
   "metadata": {},
   "source": [
    "#### **Trial**"
   ]
  },
  {
   "cell_type": "markdown",
   "id": "5509a767-0556-4979-8565-c894a8fb97d7",
   "metadata": {},
   "source": [
    "Write a function `even_index_elements(lst)` that takes a list as input and returns a new list containing only the elements at even indices.\n",
    "\n",
    "**Example**\n",
    "\n",
    "```python\n",
    "numbers = [10, 20, 30, 40, 50, 60, 70]\n",
    "print(even_index_elements(numbers))\n",
    "\n",
    "[10, 30, 50, 70]\n",
    "```"
   ]
  },
  {
   "cell_type": "markdown",
   "id": "00247534-9152-4764-a2e2-f3aad4c063c5",
   "metadata": {},
   "source": [
    "### **✌Easy✌ (2 Minutes)**\n",
    "\n",
    "- Do not execute your codes yet."
   ]
  },
  {
   "cell_type": "markdown",
   "id": "0ad3878b-ac4f-44a6-8368-396a68c08a1a",
   "metadata": {},
   "source": [
    "#### **1st Problem**"
   ]
  },
  {
   "cell_type": "markdown",
   "id": "f8c70813-6050-4b90-8a9e-b1dc3a1b0ee1",
   "metadata": {},
   "source": [
    "Create a list called fruits containing `[\"apple\", \"banana\"]`. Use the appropriate list methods to:\n",
    "\n",
    "Add `\"cherry\"` to the end of the list.\n",
    "\n",
    "Add the items `[\"mango\", \"orange\"]` at the end of the list.\n",
    "\n",
    "**Expected display output**:\n",
    "\n",
    "```python\n",
    "['apple', 'banana', 'cherry', 'mango', 'orange']\n",
    "```"
   ]
  },
  {
   "cell_type": "markdown",
   "id": "eb92bb62-d15f-4417-9b9c-8f69f1c99a0e",
   "metadata": {},
   "source": [
    "#### **2nd Problem**"
   ]
  },
  {
   "cell_type": "markdown",
   "id": "fa8484e4-fb91-4920-a9d9-c8966d30b334",
   "metadata": {},
   "source": [
    "Given the list:\n",
    "\n",
    "```python\n",
    "numbers = [10, 20, 30, 40, 50, 60, 70]\n",
    "```\n",
    "\n",
    "Use slicing to extract:\n",
    "\n",
    "- The first three elements\n",
    "- The last three elements\n",
    "- Every second element\n",
    "\n",
    "**Expected display output**:\n",
    "\n",
    "```python\n",
    "[10, 20, 30]  # First three elements\n",
    "[50, 60, 70]  # Last three elements\n",
    "[10, 30, 50, 70]  # Every second element\n",
    "```"
   ]
  },
  {
   "cell_type": "markdown",
   "id": "514f0dad-cf9f-4e6c-8aeb-8aca78e73fca",
   "metadata": {},
   "source": [
    "#### **3rd Problem**"
   ]
  },
  {
   "cell_type": "markdown",
   "id": "78267989-f52d-4055-93a9-6e16f0b228c3",
   "metadata": {},
   "source": [
    "You have the following list:\n",
    "\n",
    "```python\n",
    "animals = [\"dog\", \"cat\", \"rabbit\"]\n",
    "```\n",
    "\n",
    "Perform necessary **methods** to yield the following result:\n",
    "\n",
    "```python\n",
    "['dog', 'parrot', 'rabbit']\n",
    "```"
   ]
  },
  {
   "cell_type": "markdown",
   "id": "75e63ea5-5b3d-41a6-ba34-321dd9c04cf9",
   "metadata": {},
   "source": [
    "#### **4th Problem**"
   ]
  },
  {
   "cell_type": "markdown",
   "id": "d514d5a4-cadb-4428-8752-7e1807a1f11a",
   "metadata": {},
   "source": [
    "Given the following list\n",
    "\n",
    "```python\n",
    "letters = [\"a\", \"b\", \"c\", \"d\", \"e\"]\n",
    "```\n",
    "\n",
    "Perform necessary **slicing operation** to yield the following result:\n",
    "\n",
    "```python\n",
    "['e', 'd', 'c', 'b', 'a']\n",
    "```"
   ]
  },
  {
   "cell_type": "markdown",
   "id": "040a7a83-ef4a-42a7-a787-3447bd0900f4",
   "metadata": {},
   "source": [
    "#### **5th Problem**"
   ]
  },
  {
   "cell_type": "markdown",
   "id": "fa8073d1-7b79-4a84-9616-9a82e4eb75b2",
   "metadata": {},
   "source": [
    "Given the list:\n",
    "\n",
    "```python\n",
    "colors = [\"red\", \"blue\", \"green\", \"blue\", \"yellow\", \"blue\"]\n",
    "```\n",
    "\n",
    "- Find how many times `\"blue\"` appears in the list.\n",
    "- Find the index of the first occurrence of `\"green\"`."
   ]
  },
  {
   "cell_type": "markdown",
   "id": "b36ea614-c594-41d1-8f74-320b121cc3cc",
   "metadata": {},
   "source": [
    "### **✌Medium✌ (5 Minutes)**\n",
    "\n",
    "- You may test your codes by executing them."
   ]
  },
  {
   "cell_type": "markdown",
   "id": "000fbb53-1b14-4885-9942-9376d3cdab6b",
   "metadata": {},
   "source": [
    "#### **6th Problem**"
   ]
  },
  {
   "cell_type": "markdown",
   "id": "5b9f5edd-f400-4a3f-8858-bea71b918435",
   "metadata": {},
   "source": [
    "Write a function `extract_nth(lst, n)` that returns a new list containing every `n-th` element from the original list.\n",
    "\n",
    "**Example**:\n",
    "\n",
    "```python\n",
    "numbers = [10, 20, 30, 40, 50, 60, 70, 80, 90]\n",
    "print(extract_nth(numbers, 3))\n",
    "```\n",
    "\n",
    "```python\n",
    "[10, 40, 70]\n",
    "```"
   ]
  },
  {
   "cell_type": "markdown",
   "id": "e4dc9f32-c7a0-4b10-bd94-7743474886b2",
   "metadata": {},
   "source": [
    "#### **7th Problem**"
   ]
  },
  {
   "cell_type": "markdown",
   "id": "8ad3155e-2abb-4458-81ec-4526a737f8e9",
   "metadata": {},
   "source": [
    "Write a function `zigzag_slice(lst)` that extracts elements in a zigzag pattern:\n",
    "\n",
    "- First, take elements at even indices.\n",
    "- Then, take elements at odd indices in reverse order.\n",
    "\n",
    "**Example**:\n",
    "\n",
    "```python\n",
    "numbers = [1, 2, 3, 4, 5, 6, 7, 8]\n",
    "print(zigzag_slice(numbers))\n",
    "\n",
    "[1, 3, 5, 7, 8, 6, 4, 2]\n",
    "```"
   ]
  },
  {
   "cell_type": "markdown",
   "id": "50a2e7c7-0346-4bd4-a9c4-26e071f02ba8",
   "metadata": {},
   "source": [
    "#### **8th Problem**"
   ]
  },
  {
   "cell_type": "markdown",
   "id": "7bd83073-bf72-4dfb-b1de-6482ec16be34",
   "metadata": {},
   "source": [
    "Write a function `interleave_lists(lst1, lst2)` that takes two equal-length lists and returns a new list where elements from both lists are interleaved using slicing.\n",
    "\n",
    "**Example**:\n",
    "\n",
    "```python\n",
    "list1 = [1, 3, 5, 7]\n",
    "list2 = [2, 4, 6, 8]\n",
    "print(interleave_lists(list1, list2))\n",
    "\n",
    "[1, 2, 3, 4, 5, 6, 7, 8]\n",
    "```"
   ]
  },
  {
   "cell_type": "markdown",
   "id": "8b7a7ee3-0002-40e0-933c-d57b7fc490eb",
   "metadata": {},
   "source": [
    "### **✌Hard✌ (7 Minutes)**\n",
    "\n",
    "- You may test your codes by executing them.\n",
    "- You may repeat the  cycle until the time runs out."
   ]
  },
  {
   "cell_type": "markdown",
   "id": "f67a83c0-7adc-48d6-b0c2-ff29320b6df8",
   "metadata": {},
   "source": [
    "#### **9th Problem**"
   ]
  },
  {
   "cell_type": "markdown",
   "id": "456be06d-dfa4-4f71-8fd9-b2d0a4cb5a04",
   "metadata": {},
   "source": [
    "Create a class `Matrix` that accepts a `2D` square matrix (`NxN`) as an object. Implement a method `lde()` that returns a list containing the lower diagonal elements (elements below the main diagonal, excluding the diagonal itself).\n",
    "\n",
    "```python\n",
    "m = Matrix([\n",
    "    [1, 2, 3, 4],\n",
    "    [5, 6, 7, 8],\n",
    "    [9, 10, 11, 12],\n",
    "    [13, 14, 15, 16]\n",
    "])\n",
    "\n",
    "print(m.lde())\n",
    "\n",
    "[5, 9, 10, 13, 14, 15]\n",
    "```"
   ]
  },
  {
   "cell_type": "code",
   "execution_count": null,
   "id": "c3fe5087-f1a7-4c85-90d6-f4078862134e",
   "metadata": {
    "scrolled": true
   },
   "outputs": [],
   "source": [
    "class Matrix:\n",
    "    def __init__(self, matrix):\n",
    "        self.matrix = matrix\n",
    "        self.n = len(matrix)\n",
    "    \n",
    "    def lde(self):\n",
    "        lower_diag_elements = []\n",
    "        for i in range(1, self.n):  # Start from row index 1 to exclude the main diagonal\n",
    "            for j in range(i):  # Columns less than the row index (below the diagonal)\n",
    "                lower_diag_elements.append(self.matrix[i][j])\n",
    "        return lower_diag_elements\n",
    "\n",
    "m = Matrix([\n",
    "    [1, 2, 3, 4],\n",
    "    [5, 6, 7, 8],\n",
    "    [9, 10, 11, 12],\n",
    "    [13, 14, 15, 16]\n",
    "])\n",
    "\n",
    "print(m.lde())"
   ]
  }
 ],
 "metadata": {
  "kernelspec": {
   "display_name": "Python 3 (ipykernel)",
   "language": "python",
   "name": "python3"
  },
  "language_info": {
   "codemirror_mode": {
    "name": "ipython",
    "version": 3
   },
   "file_extension": ".py",
   "mimetype": "text/x-python",
   "name": "python",
   "nbconvert_exporter": "python",
   "pygments_lexer": "ipython3",
   "version": "3.9.18"
  },
  "widgets": {
   "application/vnd.jupyter.widget-state+json": {
    "state": {},
    "version_major": 2,
    "version_minor": 0
   }
  }
 },
 "nbformat": 4,
 "nbformat_minor": 5
}
